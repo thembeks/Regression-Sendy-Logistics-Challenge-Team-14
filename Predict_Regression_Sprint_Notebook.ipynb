{
  "nbformat": 4,
  "nbformat_minor": 0,
  "metadata": {
    "kernelspec": {
      "display_name": "Python 3",
      "language": "python",
      "name": "python3"
    },
    "language_info": {
      "codemirror_mode": {
        "name": "ipython",
        "version": 3
      },
      "file_extension": ".py",
      "mimetype": "text/x-python",
      "name": "python",
      "nbconvert_exporter": "python",
      "pygments_lexer": "ipython3",
      "version": "3.6.3"
    },
    "colab": {
      "name": "Predict_Regression_Sprint Notebook.ipynb",
      "provenance": [],
      "collapsed_sections": [],
      "include_colab_link": true
    }
  },
  "cells": [
    {
      "cell_type": "markdown",
      "metadata": {
        "id": "view-in-github",
        "colab_type": "text"
      },
      "source": [
        "<a href=\"https://colab.research.google.com/github/thembeks/Regression-Sendy-Logistics-Challenge-Team-14/blob/2ndbranch/Predict_Regression_Sprint_Notebook.ipynb\" target=\"_parent\"><img src=\"https://colab.research.google.com/assets/colab-badge.svg\" alt=\"Open In Colab\"/></a>"
      ]
    },
    {
      "cell_type": "markdown",
      "metadata": {
        "id": "jI0qZBRMWohZ",
        "colab_type": "text"
      },
      "source": [
        "Importing "
      ]
    },
    {
      "cell_type": "markdown",
      "metadata": {
        "id": "T-I0zxvkXczk",
        "colab_type": "text"
      },
      "source": [
        "# Data Preprocessing"
      ]
    },
    {
      "cell_type": "code",
      "metadata": {
        "id": "ipO6QwJUWohl",
        "colab_type": "code",
        "colab": {}
      },
      "source": [
        "import numpy as np\n",
        "import matplotlib.pyplot as plt\n",
        "import pandas as pd\n",
        "import seaborn as sns\n",
        "\n"
      ],
      "execution_count": 0,
      "outputs": []
    },
    {
      "cell_type": "markdown",
      "metadata": {
        "id": "liiCGHEMWoh7",
        "colab_type": "text"
      },
      "source": [
        ""
      ]
    },
    {
      "cell_type": "code",
      "metadata": {
        "id": "Vbh9KjYdWoiD",
        "colab_type": "code",
        "colab": {}
      },
      "source": [
        "train= pd.read_csv('https://raw.githubusercontent.com/thembeks/Regression-Sendy-Logistics-Challenge-Team-14/Predict/Train.csv')\n",
        "riders=pd.read_csv('https://raw.githubusercontent.com/thembeks/Regression-Sendy-Logistics-Challenge-Team-14/Predict/Riders.csv')\n",
        "test= pd.read_csv('https://raw.githubusercontent.com/thembeks/Regression-Sendy-Logistics-Challenge-Team-14/Predict/Test.csv')\n",
        "sample_submission= pd.read_csv('https://raw.githubusercontent.com/thembeks/Regression-Sendy-Logistics-Challenge-Team-14/Predict/SampleSubmission.csv')"
      ],
      "execution_count": 0,
      "outputs": []
    },
    {
      "cell_type": "code",
      "metadata": {
        "id": "7vB7-i7xWoiY",
        "colab_type": "code",
        "colab": {}
      },
      "source": [
        ""
      ],
      "execution_count": 0,
      "outputs": []
    },
    {
      "cell_type": "code",
      "metadata": {
        "id": "yXuYmKfkWoin",
        "colab_type": "code",
        "outputId": "f88fa7a1-2b9a-4e00-cb07-4adbecc52883",
        "colab": {
          "base_uri": "https://localhost:8080/",
          "height": 204
        }
      },
      "source": [
        "sample_submission.head()"
      ],
      "execution_count": 6,
      "outputs": [
        {
          "output_type": "execute_result",
          "data": {
            "text/html": [
              "<div>\n",
              "<style scoped>\n",
              "    .dataframe tbody tr th:only-of-type {\n",
              "        vertical-align: middle;\n",
              "    }\n",
              "\n",
              "    .dataframe tbody tr th {\n",
              "        vertical-align: top;\n",
              "    }\n",
              "\n",
              "    .dataframe thead th {\n",
              "        text-align: right;\n",
              "    }\n",
              "</style>\n",
              "<table border=\"1\" class=\"dataframe\">\n",
              "  <thead>\n",
              "    <tr style=\"text-align: right;\">\n",
              "      <th></th>\n",
              "      <th>Order_No</th>\n",
              "      <th>Time from Pickup to Arrival</th>\n",
              "    </tr>\n",
              "  </thead>\n",
              "  <tbody>\n",
              "    <tr>\n",
              "      <th>0</th>\n",
              "      <td>Order_No_19248</td>\n",
              "      <td>567.0</td>\n",
              "    </tr>\n",
              "    <tr>\n",
              "      <th>1</th>\n",
              "      <td>Order_No_12736</td>\n",
              "      <td>4903.0</td>\n",
              "    </tr>\n",
              "    <tr>\n",
              "      <th>2</th>\n",
              "      <td>Order_No_768</td>\n",
              "      <td>5649.0</td>\n",
              "    </tr>\n",
              "    <tr>\n",
              "      <th>3</th>\n",
              "      <td>Order_No_15332</td>\n",
              "      <td>NaN</td>\n",
              "    </tr>\n",
              "    <tr>\n",
              "      <th>4</th>\n",
              "      <td>Order_No_21373</td>\n",
              "      <td>NaN</td>\n",
              "    </tr>\n",
              "  </tbody>\n",
              "</table>\n",
              "</div>"
            ],
            "text/plain": [
              "         Order_No  Time from Pickup to Arrival\n",
              "0  Order_No_19248                        567.0\n",
              "1  Order_No_12736                       4903.0\n",
              "2    Order_No_768                       5649.0\n",
              "3  Order_No_15332                          NaN\n",
              "4  Order_No_21373                          NaN"
            ]
          },
          "metadata": {
            "tags": []
          },
          "execution_count": 6
        }
      ]
    },
    {
      "cell_type": "code",
      "metadata": {
        "id": "n24ud5NhWoi7",
        "colab_type": "code",
        "outputId": "9c3e7da8-92bc-4235-f137-f001165385ac",
        "colab": {
          "base_uri": "https://localhost:8080/",
          "height": 411
        }
      },
      "source": [
        "test.head()"
      ],
      "execution_count": 7,
      "outputs": [
        {
          "output_type": "execute_result",
          "data": {
            "text/html": [
              "<div>\n",
              "<style scoped>\n",
              "    .dataframe tbody tr th:only-of-type {\n",
              "        vertical-align: middle;\n",
              "    }\n",
              "\n",
              "    .dataframe tbody tr th {\n",
              "        vertical-align: top;\n",
              "    }\n",
              "\n",
              "    .dataframe thead th {\n",
              "        text-align: right;\n",
              "    }\n",
              "</style>\n",
              "<table border=\"1\" class=\"dataframe\">\n",
              "  <thead>\n",
              "    <tr style=\"text-align: right;\">\n",
              "      <th></th>\n",
              "      <th>Order No</th>\n",
              "      <th>User Id</th>\n",
              "      <th>Vehicle Type</th>\n",
              "      <th>Platform Type</th>\n",
              "      <th>Personal or Business</th>\n",
              "      <th>Placement - Day of Month</th>\n",
              "      <th>Placement - Weekday (Mo = 1)</th>\n",
              "      <th>Placement - Time</th>\n",
              "      <th>Confirmation - Day of Month</th>\n",
              "      <th>Confirmation - Weekday (Mo = 1)</th>\n",
              "      <th>Confirmation - Time</th>\n",
              "      <th>Arrival at Pickup - Day of Month</th>\n",
              "      <th>Arrival at Pickup - Weekday (Mo = 1)</th>\n",
              "      <th>Arrival at Pickup - Time</th>\n",
              "      <th>Pickup - Day of Month</th>\n",
              "      <th>Pickup - Weekday (Mo = 1)</th>\n",
              "      <th>Pickup - Time</th>\n",
              "      <th>Distance (KM)</th>\n",
              "      <th>Temperature</th>\n",
              "      <th>Precipitation in millimeters</th>\n",
              "      <th>Pickup Lat</th>\n",
              "      <th>Pickup Long</th>\n",
              "      <th>Destination Lat</th>\n",
              "      <th>Destination Long</th>\n",
              "      <th>Rider Id</th>\n",
              "    </tr>\n",
              "  </thead>\n",
              "  <tbody>\n",
              "    <tr>\n",
              "      <th>0</th>\n",
              "      <td>Order_No_19248</td>\n",
              "      <td>User_Id_3355</td>\n",
              "      <td>Bike</td>\n",
              "      <td>3</td>\n",
              "      <td>Business</td>\n",
              "      <td>27</td>\n",
              "      <td>3</td>\n",
              "      <td>4:44:10 PM</td>\n",
              "      <td>27</td>\n",
              "      <td>3</td>\n",
              "      <td>4:44:29 PM</td>\n",
              "      <td>27</td>\n",
              "      <td>3</td>\n",
              "      <td>4:53:04 PM</td>\n",
              "      <td>27</td>\n",
              "      <td>3</td>\n",
              "      <td>5:06:47 PM</td>\n",
              "      <td>8</td>\n",
              "      <td>NaN</td>\n",
              "      <td>NaN</td>\n",
              "      <td>-1.333275</td>\n",
              "      <td>36.870815</td>\n",
              "      <td>-1.305249</td>\n",
              "      <td>36.822390</td>\n",
              "      <td>Rider_Id_192</td>\n",
              "    </tr>\n",
              "    <tr>\n",
              "      <th>1</th>\n",
              "      <td>Order_No_12736</td>\n",
              "      <td>User_Id_3647</td>\n",
              "      <td>Bike</td>\n",
              "      <td>3</td>\n",
              "      <td>Business</td>\n",
              "      <td>17</td>\n",
              "      <td>5</td>\n",
              "      <td>12:57:35 PM</td>\n",
              "      <td>17</td>\n",
              "      <td>5</td>\n",
              "      <td>12:59:17 PM</td>\n",
              "      <td>17</td>\n",
              "      <td>5</td>\n",
              "      <td>1:20:27 PM</td>\n",
              "      <td>17</td>\n",
              "      <td>5</td>\n",
              "      <td>1:25:37 PM</td>\n",
              "      <td>5</td>\n",
              "      <td>NaN</td>\n",
              "      <td>NaN</td>\n",
              "      <td>-1.272639</td>\n",
              "      <td>36.794723</td>\n",
              "      <td>-1.277007</td>\n",
              "      <td>36.823907</td>\n",
              "      <td>Rider_Id_868</td>\n",
              "    </tr>\n",
              "    <tr>\n",
              "      <th>2</th>\n",
              "      <td>Order_No_768</td>\n",
              "      <td>User_Id_2154</td>\n",
              "      <td>Bike</td>\n",
              "      <td>3</td>\n",
              "      <td>Business</td>\n",
              "      <td>27</td>\n",
              "      <td>4</td>\n",
              "      <td>11:08:14 AM</td>\n",
              "      <td>27</td>\n",
              "      <td>4</td>\n",
              "      <td>11:25:05 AM</td>\n",
              "      <td>27</td>\n",
              "      <td>4</td>\n",
              "      <td>11:33:20 AM</td>\n",
              "      <td>27</td>\n",
              "      <td>4</td>\n",
              "      <td>11:57:54 AM</td>\n",
              "      <td>5</td>\n",
              "      <td>22.8</td>\n",
              "      <td>NaN</td>\n",
              "      <td>-1.290894</td>\n",
              "      <td>36.822971</td>\n",
              "      <td>-1.276574</td>\n",
              "      <td>36.851365</td>\n",
              "      <td>Rider_Id_26</td>\n",
              "    </tr>\n",
              "    <tr>\n",
              "      <th>3</th>\n",
              "      <td>Order_No_15332</td>\n",
              "      <td>User_Id_2910</td>\n",
              "      <td>Bike</td>\n",
              "      <td>3</td>\n",
              "      <td>Business</td>\n",
              "      <td>17</td>\n",
              "      <td>1</td>\n",
              "      <td>1:51:35 PM</td>\n",
              "      <td>17</td>\n",
              "      <td>1</td>\n",
              "      <td>1:53:27 PM</td>\n",
              "      <td>17</td>\n",
              "      <td>1</td>\n",
              "      <td>2:02:41 PM</td>\n",
              "      <td>17</td>\n",
              "      <td>1</td>\n",
              "      <td>2:16:52 PM</td>\n",
              "      <td>5</td>\n",
              "      <td>24.5</td>\n",
              "      <td>NaN</td>\n",
              "      <td>-1.290503</td>\n",
              "      <td>36.809646</td>\n",
              "      <td>-1.303382</td>\n",
              "      <td>36.790658</td>\n",
              "      <td>Rider_Id_685</td>\n",
              "    </tr>\n",
              "    <tr>\n",
              "      <th>4</th>\n",
              "      <td>Order_No_21373</td>\n",
              "      <td>User_Id_1205</td>\n",
              "      <td>Bike</td>\n",
              "      <td>3</td>\n",
              "      <td>Business</td>\n",
              "      <td>11</td>\n",
              "      <td>2</td>\n",
              "      <td>11:30:28 AM</td>\n",
              "      <td>11</td>\n",
              "      <td>2</td>\n",
              "      <td>11:34:45 AM</td>\n",
              "      <td>11</td>\n",
              "      <td>2</td>\n",
              "      <td>11:47:19 AM</td>\n",
              "      <td>11</td>\n",
              "      <td>2</td>\n",
              "      <td>11:56:04 AM</td>\n",
              "      <td>6</td>\n",
              "      <td>24.4</td>\n",
              "      <td>NaN</td>\n",
              "      <td>-1.281081</td>\n",
              "      <td>36.814423</td>\n",
              "      <td>-1.266467</td>\n",
              "      <td>36.792161</td>\n",
              "      <td>Rider_Id_858</td>\n",
              "    </tr>\n",
              "  </tbody>\n",
              "</table>\n",
              "</div>"
            ],
            "text/plain": [
              "         Order No       User Id  ... Destination Long      Rider Id\n",
              "0  Order_No_19248  User_Id_3355  ...        36.822390  Rider_Id_192\n",
              "1  Order_No_12736  User_Id_3647  ...        36.823907  Rider_Id_868\n",
              "2    Order_No_768  User_Id_2154  ...        36.851365   Rider_Id_26\n",
              "3  Order_No_15332  User_Id_2910  ...        36.790658  Rider_Id_685\n",
              "4  Order_No_21373  User_Id_1205  ...        36.792161  Rider_Id_858\n",
              "\n",
              "[5 rows x 25 columns]"
            ]
          },
          "metadata": {
            "tags": []
          },
          "execution_count": 7
        }
      ]
    },
    {
      "cell_type": "code",
      "metadata": {
        "id": "O8Mdg5hcWojO",
        "colab_type": "code",
        "outputId": "845afda1-b715-41f7-f89c-fdb88034eb0e",
        "colab": {
          "base_uri": "https://localhost:8080/",
          "height": 204
        }
      },
      "source": [
        "riders.head()"
      ],
      "execution_count": 8,
      "outputs": [
        {
          "output_type": "execute_result",
          "data": {
            "text/html": [
              "<div>\n",
              "<style scoped>\n",
              "    .dataframe tbody tr th:only-of-type {\n",
              "        vertical-align: middle;\n",
              "    }\n",
              "\n",
              "    .dataframe tbody tr th {\n",
              "        vertical-align: top;\n",
              "    }\n",
              "\n",
              "    .dataframe thead th {\n",
              "        text-align: right;\n",
              "    }\n",
              "</style>\n",
              "<table border=\"1\" class=\"dataframe\">\n",
              "  <thead>\n",
              "    <tr style=\"text-align: right;\">\n",
              "      <th></th>\n",
              "      <th>Rider Id</th>\n",
              "      <th>No_Of_Orders</th>\n",
              "      <th>Age</th>\n",
              "      <th>Average_Rating</th>\n",
              "      <th>No_of_Ratings</th>\n",
              "    </tr>\n",
              "  </thead>\n",
              "  <tbody>\n",
              "    <tr>\n",
              "      <th>0</th>\n",
              "      <td>Rider_Id_396</td>\n",
              "      <td>2946</td>\n",
              "      <td>2298</td>\n",
              "      <td>14.0</td>\n",
              "      <td>1159</td>\n",
              "    </tr>\n",
              "    <tr>\n",
              "      <th>1</th>\n",
              "      <td>Rider_Id_479</td>\n",
              "      <td>360</td>\n",
              "      <td>951</td>\n",
              "      <td>13.5</td>\n",
              "      <td>176</td>\n",
              "    </tr>\n",
              "    <tr>\n",
              "      <th>2</th>\n",
              "      <td>Rider_Id_648</td>\n",
              "      <td>1746</td>\n",
              "      <td>821</td>\n",
              "      <td>14.3</td>\n",
              "      <td>466</td>\n",
              "    </tr>\n",
              "    <tr>\n",
              "      <th>3</th>\n",
              "      <td>Rider_Id_753</td>\n",
              "      <td>314</td>\n",
              "      <td>980</td>\n",
              "      <td>12.5</td>\n",
              "      <td>75</td>\n",
              "    </tr>\n",
              "    <tr>\n",
              "      <th>4</th>\n",
              "      <td>Rider_Id_335</td>\n",
              "      <td>536</td>\n",
              "      <td>1113</td>\n",
              "      <td>13.7</td>\n",
              "      <td>156</td>\n",
              "    </tr>\n",
              "  </tbody>\n",
              "</table>\n",
              "</div>"
            ],
            "text/plain": [
              "       Rider Id  No_Of_Orders   Age  Average_Rating  No_of_Ratings\n",
              "0  Rider_Id_396          2946  2298            14.0           1159\n",
              "1  Rider_Id_479           360   951            13.5            176\n",
              "2  Rider_Id_648          1746   821            14.3            466\n",
              "3  Rider_Id_753           314   980            12.5             75\n",
              "4  Rider_Id_335           536  1113            13.7            156"
            ]
          },
          "metadata": {
            "tags": []
          },
          "execution_count": 8
        }
      ]
    },
    {
      "cell_type": "code",
      "metadata": {
        "id": "nD2JGRuuWojp",
        "colab_type": "code",
        "outputId": "f8d3a75b-b791-4cb9-c66a-8585603cd3f4",
        "colab": {
          "base_uri": "https://localhost:8080/",
          "height": 948
        }
      },
      "source": [
        "train.head().transpose()"
      ],
      "execution_count": 9,
      "outputs": [
        {
          "output_type": "execute_result",
          "data": {
            "text/html": [
              "<div>\n",
              "<style scoped>\n",
              "    .dataframe tbody tr th:only-of-type {\n",
              "        vertical-align: middle;\n",
              "    }\n",
              "\n",
              "    .dataframe tbody tr th {\n",
              "        vertical-align: top;\n",
              "    }\n",
              "\n",
              "    .dataframe thead th {\n",
              "        text-align: right;\n",
              "    }\n",
              "</style>\n",
              "<table border=\"1\" class=\"dataframe\">\n",
              "  <thead>\n",
              "    <tr style=\"text-align: right;\">\n",
              "      <th></th>\n",
              "      <th>0</th>\n",
              "      <th>1</th>\n",
              "      <th>2</th>\n",
              "      <th>3</th>\n",
              "      <th>4</th>\n",
              "    </tr>\n",
              "  </thead>\n",
              "  <tbody>\n",
              "    <tr>\n",
              "      <th>Order No</th>\n",
              "      <td>Order_No_4211</td>\n",
              "      <td>Order_No_25375</td>\n",
              "      <td>Order_No_1899</td>\n",
              "      <td>Order_No_9336</td>\n",
              "      <td>Order_No_27883</td>\n",
              "    </tr>\n",
              "    <tr>\n",
              "      <th>User Id</th>\n",
              "      <td>User_Id_633</td>\n",
              "      <td>User_Id_2285</td>\n",
              "      <td>User_Id_265</td>\n",
              "      <td>User_Id_1402</td>\n",
              "      <td>User_Id_1737</td>\n",
              "    </tr>\n",
              "    <tr>\n",
              "      <th>Vehicle Type</th>\n",
              "      <td>Bike</td>\n",
              "      <td>Bike</td>\n",
              "      <td>Bike</td>\n",
              "      <td>Bike</td>\n",
              "      <td>Bike</td>\n",
              "    </tr>\n",
              "    <tr>\n",
              "      <th>Platform Type</th>\n",
              "      <td>3</td>\n",
              "      <td>3</td>\n",
              "      <td>3</td>\n",
              "      <td>3</td>\n",
              "      <td>1</td>\n",
              "    </tr>\n",
              "    <tr>\n",
              "      <th>Personal or Business</th>\n",
              "      <td>Business</td>\n",
              "      <td>Personal</td>\n",
              "      <td>Business</td>\n",
              "      <td>Business</td>\n",
              "      <td>Personal</td>\n",
              "    </tr>\n",
              "    <tr>\n",
              "      <th>Placement - Day of Month</th>\n",
              "      <td>9</td>\n",
              "      <td>12</td>\n",
              "      <td>30</td>\n",
              "      <td>15</td>\n",
              "      <td>13</td>\n",
              "    </tr>\n",
              "    <tr>\n",
              "      <th>Placement - Weekday (Mo = 1)</th>\n",
              "      <td>5</td>\n",
              "      <td>5</td>\n",
              "      <td>2</td>\n",
              "      <td>5</td>\n",
              "      <td>1</td>\n",
              "    </tr>\n",
              "    <tr>\n",
              "      <th>Placement - Time</th>\n",
              "      <td>9:35:46 AM</td>\n",
              "      <td>11:16:16 AM</td>\n",
              "      <td>12:39:25 PM</td>\n",
              "      <td>9:25:34 AM</td>\n",
              "      <td>9:55:18 AM</td>\n",
              "    </tr>\n",
              "    <tr>\n",
              "      <th>Confirmation - Day of Month</th>\n",
              "      <td>9</td>\n",
              "      <td>12</td>\n",
              "      <td>30</td>\n",
              "      <td>15</td>\n",
              "      <td>13</td>\n",
              "    </tr>\n",
              "    <tr>\n",
              "      <th>Confirmation - Weekday (Mo = 1)</th>\n",
              "      <td>5</td>\n",
              "      <td>5</td>\n",
              "      <td>2</td>\n",
              "      <td>5</td>\n",
              "      <td>1</td>\n",
              "    </tr>\n",
              "    <tr>\n",
              "      <th>Confirmation - Time</th>\n",
              "      <td>9:40:10 AM</td>\n",
              "      <td>11:23:21 AM</td>\n",
              "      <td>12:42:44 PM</td>\n",
              "      <td>9:26:05 AM</td>\n",
              "      <td>9:56:18 AM</td>\n",
              "    </tr>\n",
              "    <tr>\n",
              "      <th>Arrival at Pickup - Day of Month</th>\n",
              "      <td>9</td>\n",
              "      <td>12</td>\n",
              "      <td>30</td>\n",
              "      <td>15</td>\n",
              "      <td>13</td>\n",
              "    </tr>\n",
              "    <tr>\n",
              "      <th>Arrival at Pickup - Weekday (Mo = 1)</th>\n",
              "      <td>5</td>\n",
              "      <td>5</td>\n",
              "      <td>2</td>\n",
              "      <td>5</td>\n",
              "      <td>1</td>\n",
              "    </tr>\n",
              "    <tr>\n",
              "      <th>Arrival at Pickup - Time</th>\n",
              "      <td>10:04:47 AM</td>\n",
              "      <td>11:40:22 AM</td>\n",
              "      <td>12:49:34 PM</td>\n",
              "      <td>9:37:56 AM</td>\n",
              "      <td>10:03:53 AM</td>\n",
              "    </tr>\n",
              "    <tr>\n",
              "      <th>Pickup - Day of Month</th>\n",
              "      <td>9</td>\n",
              "      <td>12</td>\n",
              "      <td>30</td>\n",
              "      <td>15</td>\n",
              "      <td>13</td>\n",
              "    </tr>\n",
              "    <tr>\n",
              "      <th>Pickup - Weekday (Mo = 1)</th>\n",
              "      <td>5</td>\n",
              "      <td>5</td>\n",
              "      <td>2</td>\n",
              "      <td>5</td>\n",
              "      <td>1</td>\n",
              "    </tr>\n",
              "    <tr>\n",
              "      <th>Pickup - Time</th>\n",
              "      <td>10:27:30 AM</td>\n",
              "      <td>11:44:09 AM</td>\n",
              "      <td>12:53:03 PM</td>\n",
              "      <td>9:43:06 AM</td>\n",
              "      <td>10:05:23 AM</td>\n",
              "    </tr>\n",
              "    <tr>\n",
              "      <th>Arrival at Destination - Day of Month</th>\n",
              "      <td>9</td>\n",
              "      <td>12</td>\n",
              "      <td>30</td>\n",
              "      <td>15</td>\n",
              "      <td>13</td>\n",
              "    </tr>\n",
              "    <tr>\n",
              "      <th>Arrival at Destination - Weekday (Mo = 1)</th>\n",
              "      <td>5</td>\n",
              "      <td>5</td>\n",
              "      <td>2</td>\n",
              "      <td>5</td>\n",
              "      <td>1</td>\n",
              "    </tr>\n",
              "    <tr>\n",
              "      <th>Arrival at Destination - Time</th>\n",
              "      <td>10:39:55 AM</td>\n",
              "      <td>12:17:22 PM</td>\n",
              "      <td>1:00:38 PM</td>\n",
              "      <td>10:05:27 AM</td>\n",
              "      <td>10:25:37 AM</td>\n",
              "    </tr>\n",
              "    <tr>\n",
              "      <th>Distance (KM)</th>\n",
              "      <td>4</td>\n",
              "      <td>16</td>\n",
              "      <td>3</td>\n",
              "      <td>9</td>\n",
              "      <td>9</td>\n",
              "    </tr>\n",
              "    <tr>\n",
              "      <th>Temperature</th>\n",
              "      <td>20.4</td>\n",
              "      <td>26.4</td>\n",
              "      <td>NaN</td>\n",
              "      <td>19.2</td>\n",
              "      <td>15.4</td>\n",
              "    </tr>\n",
              "    <tr>\n",
              "      <th>Precipitation in millimeters</th>\n",
              "      <td>NaN</td>\n",
              "      <td>NaN</td>\n",
              "      <td>NaN</td>\n",
              "      <td>NaN</td>\n",
              "      <td>NaN</td>\n",
              "    </tr>\n",
              "    <tr>\n",
              "      <th>Pickup Lat</th>\n",
              "      <td>-1.31775</td>\n",
              "      <td>-1.35145</td>\n",
              "      <td>-1.30828</td>\n",
              "      <td>-1.2813</td>\n",
              "      <td>-1.2666</td>\n",
              "    </tr>\n",
              "    <tr>\n",
              "      <th>Pickup Long</th>\n",
              "      <td>36.8304</td>\n",
              "      <td>36.8993</td>\n",
              "      <td>36.8434</td>\n",
              "      <td>36.8324</td>\n",
              "      <td>36.7921</td>\n",
              "    </tr>\n",
              "    <tr>\n",
              "      <th>Destination Lat</th>\n",
              "      <td>-1.30041</td>\n",
              "      <td>-1.295</td>\n",
              "      <td>-1.30092</td>\n",
              "      <td>-1.25715</td>\n",
              "      <td>-1.29504</td>\n",
              "    </tr>\n",
              "    <tr>\n",
              "      <th>Destination Long</th>\n",
              "      <td>36.8297</td>\n",
              "      <td>36.8144</td>\n",
              "      <td>36.8282</td>\n",
              "      <td>36.7951</td>\n",
              "      <td>36.8098</td>\n",
              "    </tr>\n",
              "    <tr>\n",
              "      <th>Rider Id</th>\n",
              "      <td>Rider_Id_432</td>\n",
              "      <td>Rider_Id_856</td>\n",
              "      <td>Rider_Id_155</td>\n",
              "      <td>Rider_Id_855</td>\n",
              "      <td>Rider_Id_770</td>\n",
              "    </tr>\n",
              "    <tr>\n",
              "      <th>Time from Pickup to Arrival</th>\n",
              "      <td>745</td>\n",
              "      <td>1993</td>\n",
              "      <td>455</td>\n",
              "      <td>1341</td>\n",
              "      <td>1214</td>\n",
              "    </tr>\n",
              "  </tbody>\n",
              "</table>\n",
              "</div>"
            ],
            "text/plain": [
              "                                                       0  ...               4\n",
              "Order No                                   Order_No_4211  ...  Order_No_27883\n",
              "User Id                                      User_Id_633  ...    User_Id_1737\n",
              "Vehicle Type                                        Bike  ...            Bike\n",
              "Platform Type                                          3  ...               1\n",
              "Personal or Business                            Business  ...        Personal\n",
              "Placement - Day of Month                               9  ...              13\n",
              "Placement - Weekday (Mo = 1)                           5  ...               1\n",
              "Placement - Time                              9:35:46 AM  ...      9:55:18 AM\n",
              "Confirmation - Day of Month                            9  ...              13\n",
              "Confirmation - Weekday (Mo = 1)                        5  ...               1\n",
              "Confirmation - Time                           9:40:10 AM  ...      9:56:18 AM\n",
              "Arrival at Pickup - Day of Month                       9  ...              13\n",
              "Arrival at Pickup - Weekday (Mo = 1)                   5  ...               1\n",
              "Arrival at Pickup - Time                     10:04:47 AM  ...     10:03:53 AM\n",
              "Pickup - Day of Month                                  9  ...              13\n",
              "Pickup - Weekday (Mo = 1)                              5  ...               1\n",
              "Pickup - Time                                10:27:30 AM  ...     10:05:23 AM\n",
              "Arrival at Destination - Day of Month                  9  ...              13\n",
              "Arrival at Destination - Weekday (Mo = 1)              5  ...               1\n",
              "Arrival at Destination - Time                10:39:55 AM  ...     10:25:37 AM\n",
              "Distance (KM)                                          4  ...               9\n",
              "Temperature                                         20.4  ...            15.4\n",
              "Precipitation in millimeters                         NaN  ...             NaN\n",
              "Pickup Lat                                      -1.31775  ...         -1.2666\n",
              "Pickup Long                                      36.8304  ...         36.7921\n",
              "Destination Lat                                 -1.30041  ...        -1.29504\n",
              "Destination Long                                 36.8297  ...         36.8098\n",
              "Rider Id                                    Rider_Id_432  ...    Rider_Id_770\n",
              "Time from Pickup to Arrival                          745  ...            1214\n",
              "\n",
              "[29 rows x 5 columns]"
            ]
          },
          "metadata": {
            "tags": []
          },
          "execution_count": 9
        }
      ]
    },
    {
      "cell_type": "markdown",
      "metadata": {
        "id": "OcVy_0lWY71e",
        "colab_type": "text"
      },
      "source": [
        "# Data Summary and EDA"
      ]
    },
    {
      "cell_type": "code",
      "metadata": {
        "id": "ycuAG88BWokr",
        "colab_type": "code",
        "outputId": "94c0afd9-12eb-4e2d-e057-f5a96545d8ca",
        "colab": {
          "base_uri": "https://localhost:8080/",
          "height": 34
        }
      },
      "source": [
        "train.shape"
      ],
      "execution_count": 10,
      "outputs": [
        {
          "output_type": "execute_result",
          "data": {
            "text/plain": [
              "(21201, 29)"
            ]
          },
          "metadata": {
            "tags": []
          },
          "execution_count": 10
        }
      ]
    },
    {
      "cell_type": "code",
      "metadata": {
        "scrolled": true,
        "id": "EKc9S829WolD",
        "colab_type": "code",
        "outputId": "9b0dbc7d-022c-48a7-f692-4420fb4bf9e6",
        "colab": {
          "base_uri": "https://localhost:8080/",
          "height": 689
        }
      },
      "source": [
        "train.describe().transpose()"
      ],
      "execution_count": 11,
      "outputs": [
        {
          "output_type": "execute_result",
          "data": {
            "text/html": [
              "<div>\n",
              "<style scoped>\n",
              "    .dataframe tbody tr th:only-of-type {\n",
              "        vertical-align: middle;\n",
              "    }\n",
              "\n",
              "    .dataframe tbody tr th {\n",
              "        vertical-align: top;\n",
              "    }\n",
              "\n",
              "    .dataframe thead th {\n",
              "        text-align: right;\n",
              "    }\n",
              "</style>\n",
              "<table border=\"1\" class=\"dataframe\">\n",
              "  <thead>\n",
              "    <tr style=\"text-align: right;\">\n",
              "      <th></th>\n",
              "      <th>count</th>\n",
              "      <th>mean</th>\n",
              "      <th>std</th>\n",
              "      <th>min</th>\n",
              "      <th>25%</th>\n",
              "      <th>50%</th>\n",
              "      <th>75%</th>\n",
              "      <th>max</th>\n",
              "    </tr>\n",
              "  </thead>\n",
              "  <tbody>\n",
              "    <tr>\n",
              "      <th>Platform Type</th>\n",
              "      <td>21201.0</td>\n",
              "      <td>2.752182</td>\n",
              "      <td>0.625178</td>\n",
              "      <td>1.000000</td>\n",
              "      <td>3.000000</td>\n",
              "      <td>3.000000</td>\n",
              "      <td>3.000000</td>\n",
              "      <td>4.000000</td>\n",
              "    </tr>\n",
              "    <tr>\n",
              "      <th>Placement - Day of Month</th>\n",
              "      <td>21201.0</td>\n",
              "      <td>15.653696</td>\n",
              "      <td>8.798916</td>\n",
              "      <td>1.000000</td>\n",
              "      <td>8.000000</td>\n",
              "      <td>15.000000</td>\n",
              "      <td>23.000000</td>\n",
              "      <td>31.000000</td>\n",
              "    </tr>\n",
              "    <tr>\n",
              "      <th>Placement - Weekday (Mo = 1)</th>\n",
              "      <td>21201.0</td>\n",
              "      <td>3.240083</td>\n",
              "      <td>1.567295</td>\n",
              "      <td>1.000000</td>\n",
              "      <td>2.000000</td>\n",
              "      <td>3.000000</td>\n",
              "      <td>5.000000</td>\n",
              "      <td>7.000000</td>\n",
              "    </tr>\n",
              "    <tr>\n",
              "      <th>Confirmation - Day of Month</th>\n",
              "      <td>21201.0</td>\n",
              "      <td>15.653837</td>\n",
              "      <td>8.798886</td>\n",
              "      <td>1.000000</td>\n",
              "      <td>8.000000</td>\n",
              "      <td>15.000000</td>\n",
              "      <td>23.000000</td>\n",
              "      <td>31.000000</td>\n",
              "    </tr>\n",
              "    <tr>\n",
              "      <th>Confirmation - Weekday (Mo = 1)</th>\n",
              "      <td>21201.0</td>\n",
              "      <td>3.240225</td>\n",
              "      <td>1.567228</td>\n",
              "      <td>1.000000</td>\n",
              "      <td>2.000000</td>\n",
              "      <td>3.000000</td>\n",
              "      <td>5.000000</td>\n",
              "      <td>7.000000</td>\n",
              "    </tr>\n",
              "    <tr>\n",
              "      <th>Arrival at Pickup - Day of Month</th>\n",
              "      <td>21201.0</td>\n",
              "      <td>15.653837</td>\n",
              "      <td>8.798886</td>\n",
              "      <td>1.000000</td>\n",
              "      <td>8.000000</td>\n",
              "      <td>15.000000</td>\n",
              "      <td>23.000000</td>\n",
              "      <td>31.000000</td>\n",
              "    </tr>\n",
              "    <tr>\n",
              "      <th>Arrival at Pickup - Weekday (Mo = 1)</th>\n",
              "      <td>21201.0</td>\n",
              "      <td>3.240225</td>\n",
              "      <td>1.567228</td>\n",
              "      <td>1.000000</td>\n",
              "      <td>2.000000</td>\n",
              "      <td>3.000000</td>\n",
              "      <td>5.000000</td>\n",
              "      <td>7.000000</td>\n",
              "    </tr>\n",
              "    <tr>\n",
              "      <th>Pickup - Day of Month</th>\n",
              "      <td>21201.0</td>\n",
              "      <td>15.653837</td>\n",
              "      <td>8.798886</td>\n",
              "      <td>1.000000</td>\n",
              "      <td>8.000000</td>\n",
              "      <td>15.000000</td>\n",
              "      <td>23.000000</td>\n",
              "      <td>31.000000</td>\n",
              "    </tr>\n",
              "    <tr>\n",
              "      <th>Pickup - Weekday (Mo = 1)</th>\n",
              "      <td>21201.0</td>\n",
              "      <td>3.240225</td>\n",
              "      <td>1.567228</td>\n",
              "      <td>1.000000</td>\n",
              "      <td>2.000000</td>\n",
              "      <td>3.000000</td>\n",
              "      <td>5.000000</td>\n",
              "      <td>7.000000</td>\n",
              "    </tr>\n",
              "    <tr>\n",
              "      <th>Arrival at Destination - Day of Month</th>\n",
              "      <td>21201.0</td>\n",
              "      <td>15.653837</td>\n",
              "      <td>8.798886</td>\n",
              "      <td>1.000000</td>\n",
              "      <td>8.000000</td>\n",
              "      <td>15.000000</td>\n",
              "      <td>23.000000</td>\n",
              "      <td>31.000000</td>\n",
              "    </tr>\n",
              "    <tr>\n",
              "      <th>Arrival at Destination - Weekday (Mo = 1)</th>\n",
              "      <td>21201.0</td>\n",
              "      <td>3.240225</td>\n",
              "      <td>1.567228</td>\n",
              "      <td>1.000000</td>\n",
              "      <td>2.000000</td>\n",
              "      <td>3.000000</td>\n",
              "      <td>5.000000</td>\n",
              "      <td>7.000000</td>\n",
              "    </tr>\n",
              "    <tr>\n",
              "      <th>Distance (KM)</th>\n",
              "      <td>21201.0</td>\n",
              "      <td>9.506533</td>\n",
              "      <td>5.668963</td>\n",
              "      <td>1.000000</td>\n",
              "      <td>5.000000</td>\n",
              "      <td>8.000000</td>\n",
              "      <td>13.000000</td>\n",
              "      <td>49.000000</td>\n",
              "    </tr>\n",
              "    <tr>\n",
              "      <th>Temperature</th>\n",
              "      <td>16835.0</td>\n",
              "      <td>23.258889</td>\n",
              "      <td>3.615768</td>\n",
              "      <td>11.200000</td>\n",
              "      <td>20.600000</td>\n",
              "      <td>23.500000</td>\n",
              "      <td>26.000000</td>\n",
              "      <td>32.100000</td>\n",
              "    </tr>\n",
              "    <tr>\n",
              "      <th>Precipitation in millimeters</th>\n",
              "      <td>552.0</td>\n",
              "      <td>7.905797</td>\n",
              "      <td>17.089971</td>\n",
              "      <td>0.100000</td>\n",
              "      <td>1.075000</td>\n",
              "      <td>2.900000</td>\n",
              "      <td>4.900000</td>\n",
              "      <td>99.100000</td>\n",
              "    </tr>\n",
              "    <tr>\n",
              "      <th>Pickup Lat</th>\n",
              "      <td>21201.0</td>\n",
              "      <td>-1.281470</td>\n",
              "      <td>0.030507</td>\n",
              "      <td>-1.438302</td>\n",
              "      <td>-1.300921</td>\n",
              "      <td>-1.279395</td>\n",
              "      <td>-1.257147</td>\n",
              "      <td>-1.147170</td>\n",
              "    </tr>\n",
              "    <tr>\n",
              "      <th>Pickup Long</th>\n",
              "      <td>21201.0</td>\n",
              "      <td>36.811264</td>\n",
              "      <td>0.037473</td>\n",
              "      <td>36.653621</td>\n",
              "      <td>36.784605</td>\n",
              "      <td>36.807040</td>\n",
              "      <td>36.829741</td>\n",
              "      <td>36.991046</td>\n",
              "    </tr>\n",
              "    <tr>\n",
              "      <th>Destination Lat</th>\n",
              "      <td>21201.0</td>\n",
              "      <td>-1.282581</td>\n",
              "      <td>0.034824</td>\n",
              "      <td>-1.430298</td>\n",
              "      <td>-1.301201</td>\n",
              "      <td>-1.284382</td>\n",
              "      <td>-1.261177</td>\n",
              "      <td>-1.030225</td>\n",
              "    </tr>\n",
              "    <tr>\n",
              "      <th>Destination Long</th>\n",
              "      <td>21201.0</td>\n",
              "      <td>36.811220</td>\n",
              "      <td>0.044721</td>\n",
              "      <td>36.606594</td>\n",
              "      <td>36.785661</td>\n",
              "      <td>36.808002</td>\n",
              "      <td>36.829477</td>\n",
              "      <td>37.016779</td>\n",
              "    </tr>\n",
              "    <tr>\n",
              "      <th>Time from Pickup to Arrival</th>\n",
              "      <td>21201.0</td>\n",
              "      <td>1556.920947</td>\n",
              "      <td>987.270788</td>\n",
              "      <td>1.000000</td>\n",
              "      <td>882.000000</td>\n",
              "      <td>1369.000000</td>\n",
              "      <td>2040.000000</td>\n",
              "      <td>7883.000000</td>\n",
              "    </tr>\n",
              "  </tbody>\n",
              "</table>\n",
              "</div>"
            ],
            "text/plain": [
              "                                             count  ...          max\n",
              "Platform Type                              21201.0  ...     4.000000\n",
              "Placement - Day of Month                   21201.0  ...    31.000000\n",
              "Placement - Weekday (Mo = 1)               21201.0  ...     7.000000\n",
              "Confirmation - Day of Month                21201.0  ...    31.000000\n",
              "Confirmation - Weekday (Mo = 1)            21201.0  ...     7.000000\n",
              "Arrival at Pickup - Day of Month           21201.0  ...    31.000000\n",
              "Arrival at Pickup - Weekday (Mo = 1)       21201.0  ...     7.000000\n",
              "Pickup - Day of Month                      21201.0  ...    31.000000\n",
              "Pickup - Weekday (Mo = 1)                  21201.0  ...     7.000000\n",
              "Arrival at Destination - Day of Month      21201.0  ...    31.000000\n",
              "Arrival at Destination - Weekday (Mo = 1)  21201.0  ...     7.000000\n",
              "Distance (KM)                              21201.0  ...    49.000000\n",
              "Temperature                                16835.0  ...    32.100000\n",
              "Precipitation in millimeters                 552.0  ...    99.100000\n",
              "Pickup Lat                                 21201.0  ...    -1.147170\n",
              "Pickup Long                                21201.0  ...    36.991046\n",
              "Destination Lat                            21201.0  ...    -1.030225\n",
              "Destination Long                           21201.0  ...    37.016779\n",
              "Time from Pickup to Arrival                21201.0  ...  7883.000000\n",
              "\n",
              "[19 rows x 8 columns]"
            ]
          },
          "metadata": {
            "tags": []
          },
          "execution_count": 11
        }
      ]
    },
    {
      "cell_type": "markdown",
      "metadata": {
        "id": "yQ0wSSpgg6-Z",
        "colab_type": "text"
      },
      "source": [
        "**Observations**\n",
        "\n",
        "*   For the distance the median or value at 50th percentile is higher than the mean. There is also a large difference between the max value and that of the 75th percentile, these 2 points could be an indication of a presence of outliers in the dataset.\n",
        "*   The precipitation in millimeters column has missing values accounting for about 97% of the data, the mean and median of the column are more or less the same, therefore the missing values can be imputed with either. Imputation with either the mean or median value could affect the distribution of the data.\n",
        "\n"
      ]
    },
    {
      "cell_type": "code",
      "metadata": {
        "id": "doaULquPWolj",
        "colab_type": "code",
        "outputId": "643e840f-b762-4522-ba36-e97ed10983b5",
        "colab": {
          "base_uri": "https://localhost:8080/",
          "height": 629
        }
      },
      "source": [
        "train.info()"
      ],
      "execution_count": 12,
      "outputs": [
        {
          "output_type": "stream",
          "text": [
            "<class 'pandas.core.frame.DataFrame'>\n",
            "RangeIndex: 21201 entries, 0 to 21200\n",
            "Data columns (total 29 columns):\n",
            " #   Column                                     Non-Null Count  Dtype  \n",
            "---  ------                                     --------------  -----  \n",
            " 0   Order No                                   21201 non-null  object \n",
            " 1   User Id                                    21201 non-null  object \n",
            " 2   Vehicle Type                               21201 non-null  object \n",
            " 3   Platform Type                              21201 non-null  int64  \n",
            " 4   Personal or Business                       21201 non-null  object \n",
            " 5   Placement - Day of Month                   21201 non-null  int64  \n",
            " 6   Placement - Weekday (Mo = 1)               21201 non-null  int64  \n",
            " 7   Placement - Time                           21201 non-null  object \n",
            " 8   Confirmation - Day of Month                21201 non-null  int64  \n",
            " 9   Confirmation - Weekday (Mo = 1)            21201 non-null  int64  \n",
            " 10  Confirmation - Time                        21201 non-null  object \n",
            " 11  Arrival at Pickup - Day of Month           21201 non-null  int64  \n",
            " 12  Arrival at Pickup - Weekday (Mo = 1)       21201 non-null  int64  \n",
            " 13  Arrival at Pickup - Time                   21201 non-null  object \n",
            " 14  Pickup - Day of Month                      21201 non-null  int64  \n",
            " 15  Pickup - Weekday (Mo = 1)                  21201 non-null  int64  \n",
            " 16  Pickup - Time                              21201 non-null  object \n",
            " 17  Arrival at Destination - Day of Month      21201 non-null  int64  \n",
            " 18  Arrival at Destination - Weekday (Mo = 1)  21201 non-null  int64  \n",
            " 19  Arrival at Destination - Time              21201 non-null  object \n",
            " 20  Distance (KM)                              21201 non-null  int64  \n",
            " 21  Temperature                                16835 non-null  float64\n",
            " 22  Precipitation in millimeters               552 non-null    float64\n",
            " 23  Pickup Lat                                 21201 non-null  float64\n",
            " 24  Pickup Long                                21201 non-null  float64\n",
            " 25  Destination Lat                            21201 non-null  float64\n",
            " 26  Destination Long                           21201 non-null  float64\n",
            " 27  Rider Id                                   21201 non-null  object \n",
            " 28  Time from Pickup to Arrival                21201 non-null  int64  \n",
            "dtypes: float64(6), int64(13), object(10)\n",
            "memory usage: 4.7+ MB\n"
          ],
          "name": "stdout"
        }
      ]
    },
    {
      "cell_type": "code",
      "metadata": {
        "id": "yCosSCtsWomM",
        "colab_type": "code",
        "outputId": "7e79cbb1-574a-4fa3-d0b1-2bba5ceec638",
        "colab": {
          "base_uri": "https://localhost:8080/",
          "height": 34
        }
      },
      "source": [
        "train['Order No'].nunique()"
      ],
      "execution_count": 15,
      "outputs": [
        {
          "output_type": "execute_result",
          "data": {
            "text/plain": [
              "21201"
            ]
          },
          "metadata": {
            "tags": []
          },
          "execution_count": 15
        }
      ]
    },
    {
      "cell_type": "markdown",
      "metadata": {
        "id": "l8EgwyQqa-8V",
        "colab_type": "text"
      },
      "source": [
        "\n",
        "*   Unique number identifying the order\n",
        "*   Not Important\n",
        "*   Unique Order No for each entry\n",
        "\n",
        "\n",
        "\n",
        "\n",
        "\n"
      ]
    },
    {
      "cell_type": "code",
      "metadata": {
        "id": "1AjMwX2_WomW",
        "colab_type": "code",
        "outputId": "5adca41a-0ecc-441b-b590-e7f01eb133be",
        "colab": {
          "base_uri": "https://localhost:8080/",
          "height": 221
        }
      },
      "source": [
        "train['User Id'].value_counts()"
      ],
      "execution_count": 18,
      "outputs": [
        {
          "output_type": "execute_result",
          "data": {
            "text/plain": [
              "User_Id_393     645\n",
              "User_Id_2330    322\n",
              "User_Id_3647    312\n",
              "User_Id_1500    301\n",
              "User_Id_635     290\n",
              "               ... \n",
              "User_Id_3253      1\n",
              "User_Id_100       1\n",
              "User_Id_2202      1\n",
              "User_Id_2018      1\n",
              "User_Id_1864      1\n",
              "Name: User Id, Length: 3186, dtype: int64"
            ]
          },
          "metadata": {
            "tags": []
          },
          "execution_count": 18
        }
      ]
    },
    {
      "cell_type": "code",
      "metadata": {
        "id": "F2HkGRT6c-VD",
        "colab_type": "code",
        "colab": {
          "base_uri": "https://localhost:8080/",
          "height": 102
        },
        "outputId": "a58a35cc-d799-45e3-c0dd-47a0b541fe6d"
      },
      "source": [
        "train['User Id'].describe()"
      ],
      "execution_count": 20,
      "outputs": [
        {
          "output_type": "execute_result",
          "data": {
            "text/plain": [
              "count           21201\n",
              "unique           3186\n",
              "top       User_Id_393\n",
              "freq              645\n",
              "Name: User Id, dtype: object"
            ]
          },
          "metadata": {
            "tags": []
          },
          "execution_count": 20
        }
      ]
    },
    {
      "cell_type": "markdown",
      "metadata": {
        "id": "zIznc7eKbyiJ",
        "colab_type": "text"
      },
      "source": [
        "\n",
        "*  Unique number identifying the customer on a platform\n",
        "*  Important\n",
        "*  More Orders for some Users\n",
        "*  Create a new feature, classify most orders\n",
        "\n",
        "\n",
        "\n"
      ]
    },
    {
      "cell_type": "code",
      "metadata": {
        "id": "XNErK5pHWomx",
        "colab_type": "code",
        "colab": {
          "base_uri": "https://localhost:8080/",
          "height": 51
        },
        "outputId": "c49a5459-ee47-4129-ddb4-3ccd18d369dd"
      },
      "source": [
        "train['Vehicle Type'].value_counts()"
      ],
      "execution_count": 22,
      "outputs": [
        {
          "output_type": "execute_result",
          "data": {
            "text/plain": [
              "Bike    21201\n",
              "Name: Vehicle Type, dtype: int64"
            ]
          },
          "metadata": {
            "tags": []
          },
          "execution_count": 22
        }
      ]
    },
    {
      "cell_type": "markdown",
      "metadata": {
        "id": "Ii_eDzqUeWVj",
        "colab_type": "text"
      },
      "source": [
        "\n",
        "*   For this competition limited to bikes, however in practice Sendy service extends to trucks and vans\n",
        "*   Not Important\n",
        "*   One type, drop column\n",
        "\n",
        "\n",
        "\n",
        "\n"
      ]
    },
    {
      "cell_type": "code",
      "metadata": {
        "id": "-NlauqpmeujK",
        "colab_type": "code",
        "colab": {
          "base_uri": "https://localhost:8080/",
          "height": 102
        },
        "outputId": "bad578b9-13f9-4c3e-8cb3-260b74166a20"
      },
      "source": [
        "train['Platform Type'].value_counts()"
      ],
      "execution_count": 23,
      "outputs": [
        {
          "output_type": "execute_result",
          "data": {
            "text/plain": [
              "3    18054\n",
              "1     2147\n",
              "2      980\n",
              "4       20\n",
              "Name: Platform Type, dtype: int64"
            ]
          },
          "metadata": {
            "tags": []
          },
          "execution_count": 23
        }
      ]
    },
    {
      "cell_type": "markdown",
      "metadata": {
        "id": "7z1TaZjNfKnW",
        "colab_type": "text"
      },
      "source": [
        "\n",
        "*   Platform used to place the order, there are 4 types\n",
        "*   Important \n",
        "*   Create a new feature Platform Usage, most used platform and least used\n",
        "\n",
        "\n",
        "\n",
        "\n"
      ]
    },
    {
      "cell_type": "code",
      "metadata": {
        "id": "poGeUhVXfwiz",
        "colab_type": "code",
        "colab": {
          "base_uri": "https://localhost:8080/",
          "height": 68
        },
        "outputId": "df96cf51-47e6-42a7-defc-7498a392847f"
      },
      "source": [
        "train['Personal or Business'].value_counts()"
      ],
      "execution_count": 25,
      "outputs": [
        {
          "output_type": "execute_result",
          "data": {
            "text/plain": [
              "Business    17384\n",
              "Personal     3817\n",
              "Name: Personal or Business, dtype: int64"
            ]
          },
          "metadata": {
            "tags": []
          },
          "execution_count": 25
        }
      ]
    },
    {
      "cell_type": "markdown",
      "metadata": {
        "id": "w637DCRsgVSp",
        "colab_type": "text"
      },
      "source": [
        "\n",
        "*   2 types of customers\n",
        "*   Encode\n",
        "\n"
      ]
    },
    {
      "cell_type": "code",
      "metadata": {
        "colab_type": "code",
        "id": "WVxRueOMhduU",
        "colab": {}
      },
      "source": [
        "cat_cols=['Platform Type','Personal or Business', 'Placement - Day of Month','Placement - Weekday (Mo = 1)','Confirmation - Day of Month','Confirmation - Weekday (Mo = 1)','Arrival at Pickup - Day of Month']\n",
        "num_cols=['Distance (KM)','Temperature', 'Precipitation in millimeters']\n",
        "#time_ser_cols=['Placement - Day of Month','Placement - Weekday (Mo = 1)','Placement - Time','Confirmation - Day of Month','Confirmation - Weekday (Mo = 1)','Confirmation - Time','Arrival at Pickup - Day of Month','Pickup - Time']"
      ],
      "execution_count": 0,
      "outputs": []
    },
    {
      "cell_type": "code",
      "metadata": {
        "id": "sowk3iClhpbk",
        "colab_type": "code",
        "colab": {
          "base_uri": "https://localhost:8080/",
          "height": 1000
        },
        "outputId": "6db2394e-3cf6-4eac-b526-21ceb77cb52b"
      },
      "source": [
        "for col in cat_cols:\n",
        "    fig = plt.figure(figsize=(6,6)) # define plot area\n",
        "    ax = fig.gca() # define axis  \n",
        "    \n",
        "    counts = train[col].value_counts() # find the counts for each unique category\n",
        "    counts.plot.bar(ax = ax) # Use the plot.bar method on the counts data frame\n",
        "    ax.set_title('Bar plot for ' + col)\n",
        "    plt.show()"
      ],
      "execution_count": 30,
      "outputs": [
        {
          "output_type": "display_data",
          "data": {
            "image/png": "[encoded data removed]",
            "text/plain": [
              "<Figure size 432x432 with 1 Axes>"
            ]
          },
          "metadata": {
            "tags": [],
            "needs_background": "light"
          }
        },
        {
          "output_type": "display_data",
          "data": {
            "image/png": "[encoded data removed]",
            "text/plain": [
              "<Figure size 432x432 with 1 Axes>"
            ]
          },
          "metadata": {
            "tags": [],
            "needs_background": "light"
          }
        },
        {
          "output_type": "display_data",
          "data": {
            "image/png": "[encoded data removed]",
            "text/plain": [
              "<Figure size 432x432 with 1 Axes>"
            ]
          },
          "metadata": {
            "tags": [],
            "needs_background": "light"
          }
        },
        {
          "output_type": "display_data",
          "data": {
            "image/png": "[encoded data removed]",
            "text/plain": [
              "<Figure size 432x432 with 1 Axes>"
            ]
          },
          "metadata": {
            "tags": [],
            "needs_background": "light"
          }
        },
        {
          "output_type": "display_data",
          "data": {
            "image/png": "[encoded data removed]",
            "text/plain": [
              "<Figure size 432x432 with 1 Axes>"
            ]
          },
          "metadata": {
            "tags": [],
            "needs_background": "light"
          }
        },
        {
          "output_type": "display_data",
          "data": {
            "image/png": "[encoded data removed]",
            "text/plain": [
              "<Figure size 432x432 with 1 Axes>"
            ]
          },
          "metadata": {
            "tags": [],
            "needs_background": "light"
          }
        },
        {
          "output_type": "display_data",
          "data": {
            "image/png": "[encoded data removed]",
            "text/plain": [
              "<Figure size 432x432 with 1 Axes>"
            ]
          },
          "metadata": {
            "tags": [],
            "needs_background": "light"
          }
        }
      ]
    },
    {
      "cell_type": "markdown",
      "metadata": {
        "id": "TgJdQf9RjEst",
        "colab_type": "text"
      },
      "source": [
        "**Observations**\n",
        "\n",
        "*   Platform type 3 is the most used plaform type\n",
        "*   Most customer types are business\n",
        "*   Most orders are placed, confirmed and arrive within the first 2 weeks of the month.\n",
        "\n",
        "\n",
        "\n",
        "\n",
        "\n",
        "\n"
      ]
    },
    {
      "cell_type": "code",
      "metadata": {
        "id": "srN9Wu-smfKc",
        "colab_type": "code",
        "colab": {
          "base_uri": "https://localhost:8080/",
          "height": 1000
        },
        "outputId": "bbca73d9-3a8c-450c-b84a-03af9ac141a0"
      },
      "source": [
        "for col in num_cols:\n",
        "    fig = plt.figure(figsize=(6,6)) # define plot area\n",
        "    ax = fig.gca() # define axis  \n",
        "\n",
        "    train.plot.scatter(x = col, y = 'Time from Pickup to Arrival', ax = ax)\n",
        "    plt.show()"
      ],
      "execution_count": 34,
      "outputs": [
        {
          "output_type": "display_data",
          "data": {
            "image/png": "[encoded data removed]",
            "text/plain": [
              "<Figure size 432x432 with 1 Axes>"
            ]
          },
          "metadata": {
            "tags": [],
            "needs_background": "light"
          }
        },
        {
          "output_type": "display_data",
          "data": {
            "image/png": "[encoded data removed]",
            "text/plain": [
              "<Figure size 432x432 with 1 Axes>"
            ]
          },
          "metadata": {
            "tags": [],
            "needs_background": "light"
          }
        },
        {
          "output_type": "display_data",
          "data": {
            "image/png": "[encoded data removed]",
            "text/plain": [
              "<Figure size 432x432 with 1 Axes>"
            ]
          },
          "metadata": {
            "tags": [],
            "needs_background": "light"
          }
        }
      ]
    },
    {
      "cell_type": "code",
      "metadata": {
        "id": "CGLPC6e-mf0c",
        "colab_type": "code",
        "colab": {
          "base_uri": "https://localhost:8080/",
          "height": 711
        },
        "outputId": "75f33cf6-a2cd-49d5-a272-910e9b5e45fb"
      },
      "source": [
        "for col in num_cols:\n",
        "    sns.set_style('whitegrid')\n",
        "    sns.boxplot(train[col],color='green',orient='v')\n",
        "    plt.show()"
      ],
      "execution_count": 35,
      "outputs": [
        {
          "output_type": "display_data",
          "data": {
            "image/png": "[encoded data removed]",
            "text/plain": [
              "<Figure size 432x288 with 1 Axes>"
            ]
          },
          "metadata": {
            "tags": []
          }
        },
        {
          "output_type": "display_data",
          "data": {
            "image/png": "[encoded data removed]",
            "text/plain": [
              "<Figure size 432x288 with 1 Axes>"
            ]
          },
          "metadata": {
            "tags": []
          }
        },
        {
          "output_type": "display_data",
          "data": {
            "image/png": "[encoded data removed]",
            "text/plain": [
              "<Figure size 432x288 with 1 Axes>"
            ]
          },
          "metadata": {
            "tags": []
          }
        }
      ]
    },
    {
      "cell_type": "markdown",
      "metadata": {
        "id": "w7i8EZutnq6L",
        "colab_type": "text"
      },
      "source": [
        "**Observations**\n",
        "\n",
        "*   Distance has quite a number of outlier values, these may have an effect on the model since distance has shown to have the highest correlation with the dependent variable. The precipitation column also has outlier values, however, the distibution of the data is highly affected by the number of missing values.\n",
        "*   Precipitation is clustered around certain points, we could create a new feature column to capture the clusters\n",
        "\n",
        "\n",
        "\n",
        "\n"
      ]
    },
    {
      "cell_type": "markdown",
      "metadata": {
        "id": "7H0t90pGo4Vi",
        "colab_type": "text"
      },
      "source": [
        "**Missing Values and Columns**"
      ]
    },
    {
      "cell_type": "code",
      "metadata": {
        "id": "DsajL6EvWonN",
        "colab_type": "code",
        "outputId": "6d928de7-91a1-49ce-ef4b-bc74601d4709",
        "colab": {
          "base_uri": "https://localhost:8080/",
          "height": 85
        }
      },
      "source": [
        "for col in train:\n",
        "    if col not in test:\n",
        "        print(col)"
      ],
      "execution_count": 36,
      "outputs": [
        {
          "output_type": "stream",
          "text": [
            "Arrival at Destination - Day of Month\n",
            "Arrival at Destination - Weekday (Mo = 1)\n",
            "Arrival at Destination - Time\n",
            "Time from Pickup to Arrival\n"
          ],
          "name": "stdout"
        }
      ]
    },
    {
      "cell_type": "code",
      "metadata": {
        "id": "qx9WM99EWooN",
        "colab_type": "code",
        "outputId": "15e9208c-b590-465e-fdc5-10384deacff5",
        "colab": {
          "base_uri": "https://localhost:8080/",
          "height": 527
        }
      },
      "source": [
        "df_train.isnull().sum()"
      ],
      "execution_count": 0,
      "outputs": [
        {
          "output_type": "execute_result",
          "data": {
            "text/plain": [
              "Order No                                         0\n",
              "User Id                                          0\n",
              "Vehicle Type                                     0\n",
              "Platform Type                                    0\n",
              "Personal or Business                             0\n",
              "Placement - Day of Month                         0\n",
              "Placement - Weekday (Mo = 1)                     0\n",
              "Placement - Time                                 0\n",
              "Confirmation - Day of Month                      0\n",
              "Confirmation - Weekday (Mo = 1)                  0\n",
              "Confirmation - Time                              0\n",
              "Arrival at Pickup - Day of Month                 0\n",
              "Arrival at Pickup - Weekday (Mo = 1)             0\n",
              "Arrival at Pickup - Time                         0\n",
              "Pickup - Day of Month                            0\n",
              "Pickup - Weekday (Mo = 1)                        0\n",
              "Pickup - Time                                    0\n",
              "Arrival at Destination - Day of Month            0\n",
              "Arrival at Destination - Weekday (Mo = 1)        0\n",
              "Arrival at Destination - Time                    0\n",
              "Distance (KM)                                    0\n",
              "Temperature                                   4366\n",
              "Precipitation in millimeters                 20649\n",
              "Pickup Lat                                       0\n",
              "Pickup Long                                      0\n",
              "Destination Lat                                  0\n",
              "Destination Long                                 0\n",
              "Rider Id                                         0\n",
              "Time from Pickup to Arrival                      0\n",
              "dtype: int64"
            ]
          },
          "metadata": {
            "tags": []
          },
          "execution_count": 17
        }
      ]
    },
    {
      "cell_type": "code",
      "metadata": {
        "id": "iyAYu3geWoob",
        "colab_type": "code",
        "outputId": "482e6ef0-1fde-40af-91d8-d24c531a4c8c",
        "colab": {
          "base_uri": "https://localhost:8080/",
          "height": 111
        }
      },
      "source": [
        "train_missing=train.isnull().sum() * 100 / len(train)\n",
        "train_missing=train_missing.drop(train_missing[train_missing==0].index).sort_values(ascending=False)\n",
        "train_missing_data=pd.DataFrame({'Missing Percentage':train_missing})\n",
        "train_missing_data"
      ],
      "execution_count": 39,
      "outputs": [
        {
          "output_type": "execute_result",
          "data": {
            "text/html": [
              "<div>\n",
              "<style scoped>\n",
              "    .dataframe tbody tr th:only-of-type {\n",
              "        vertical-align: middle;\n",
              "    }\n",
              "\n",
              "    .dataframe tbody tr th {\n",
              "        vertical-align: top;\n",
              "    }\n",
              "\n",
              "    .dataframe thead th {\n",
              "        text-align: right;\n",
              "    }\n",
              "</style>\n",
              "<table border=\"1\" class=\"dataframe\">\n",
              "  <thead>\n",
              "    <tr style=\"text-align: right;\">\n",
              "      <th></th>\n",
              "      <th>Missing Percentage</th>\n",
              "    </tr>\n",
              "  </thead>\n",
              "  <tbody>\n",
              "    <tr>\n",
              "      <th>Precipitation in millimeters</th>\n",
              "      <td>97.396349</td>\n",
              "    </tr>\n",
              "    <tr>\n",
              "      <th>Temperature</th>\n",
              "      <td>20.593368</td>\n",
              "    </tr>\n",
              "  </tbody>\n",
              "</table>\n",
              "</div>"
            ],
            "text/plain": [
              "                              Missing Percentage\n",
              "Precipitation in millimeters           97.396349\n",
              "Temperature                            20.593368"
            ]
          },
          "metadata": {
            "tags": []
          },
          "execution_count": 39
        }
      ]
    },
    {
      "cell_type": "code",
      "metadata": {
        "id": "8qJzyo7QpPiZ",
        "colab_type": "code",
        "colab": {
          "base_uri": "https://localhost:8080/",
          "height": 111
        },
        "outputId": "743ed8b8-8947-40ce-fd27-3e78ec578b72"
      },
      "source": [
        "test_missing=test.isnull().sum() * 100 / len(test)\n",
        "test_missing=test_missing.drop(test_missing[test_missing==0].index).sort_values(ascending=False)\n",
        "test_missing_data=pd.DataFrame({'Missing Percentage':test_missing})\n",
        "test_missing_data"
      ],
      "execution_count": 40,
      "outputs": [
        {
          "output_type": "execute_result",
          "data": {
            "text/html": [
              "<div>\n",
              "<style scoped>\n",
              "    .dataframe tbody tr th:only-of-type {\n",
              "        vertical-align: middle;\n",
              "    }\n",
              "\n",
              "    .dataframe tbody tr th {\n",
              "        vertical-align: top;\n",
              "    }\n",
              "\n",
              "    .dataframe thead th {\n",
              "        text-align: right;\n",
              "    }\n",
              "</style>\n",
              "<table border=\"1\" class=\"dataframe\">\n",
              "  <thead>\n",
              "    <tr style=\"text-align: right;\">\n",
              "      <th></th>\n",
              "      <th>Missing Percentage</th>\n",
              "    </tr>\n",
              "  </thead>\n",
              "  <tbody>\n",
              "    <tr>\n",
              "      <th>Precipitation in millimeters</th>\n",
              "      <td>97.184493</td>\n",
              "    </tr>\n",
              "    <tr>\n",
              "      <th>Temperature</th>\n",
              "      <td>20.331070</td>\n",
              "    </tr>\n",
              "  </tbody>\n",
              "</table>\n",
              "</div>"
            ],
            "text/plain": [
              "                              Missing Percentage\n",
              "Precipitation in millimeters           97.184493\n",
              "Temperature                            20.331070"
            ]
          },
          "metadata": {
            "tags": []
          },
          "execution_count": 40
        }
      ]
    },
    {
      "cell_type": "markdown",
      "metadata": {
        "id": "XAFw2ackpzBq",
        "colab_type": "text"
      },
      "source": [
        "\n",
        "\n",
        "*   97% of the data from the precipitation column is missing \n",
        "*   columns: Arrival at Destination - Day of Month, Arrival at Destination - Weekday (Mo = 1), Arrival at Destination - Time, Time from Pickup to Arrival are missing on the test dataframe. \n",
        "*   We can impute the missing values and drop the missing columns\n",
        "\n",
        "\n",
        "\n",
        "\n"
      ]
    },
    {
      "cell_type": "markdown",
      "metadata": {
        "id": "EOMmfi0Jq2Cr",
        "colab_type": "text"
      },
      "source": [
        "\n",
        "# Correlation\n",
        "\n"
      ]
    },
    {
      "cell_type": "code",
      "metadata": {
        "id": "8IGNUI2Zq1WB",
        "colab_type": "code",
        "colab": {
          "base_uri": "https://localhost:8080/",
          "height": 485
        },
        "outputId": "289f5739-c284-4ccd-bf23-4720a4dc30e9"
      },
      "source": [
        "plt.figure(figsize=(6,4))\n",
        "sns.heatmap(train.corr(),cmap='Blues',annot=False) "
      ],
      "execution_count": 41,
      "outputs": [
        {
          "output_type": "execute_result",
          "data": {
            "text/plain": [
              "<matplotlib.axes._subplots.AxesSubplot at 0x7f009b571780>"
            ]
          },
          "metadata": {
            "tags": []
          },
          "execution_count": 41
        },
        {
          "output_type": "display_data",
          "data": {
            "image/png": "[encoded data removed]",
            "text/plain": [
              "<Figure size 432x288 with 2 Axes>"
            ]
          },
          "metadata": {
            "tags": []
          }
        }
      ]
    },
    {
      "cell_type": "code",
      "metadata": {
        "id": "wdrsBG6Gq0jm",
        "colab_type": "code",
        "colab": {
          "base_uri": "https://localhost:8080/",
          "height": 907
        },
        "outputId": "9acfed53-8056-47f5-cc18-9e907d695d1f"
      },
      "source": [
        "k = 19 #number of variables for heatmap\n",
        "cols = train.corr().nlargest(k, 'Time from Pickup to Arrival')['Time from Pickup to Arrival'].index\n",
        "cm = train[cols].corr()\n",
        "plt.figure(figsize=(14,12))\n",
        "sns.heatmap(cm, annot=True, cmap = 'viridis')"
      ],
      "execution_count": 43,
      "outputs": [
        {
          "output_type": "execute_result",
          "data": {
            "text/plain": [
              "<matplotlib.axes._subplots.AxesSubplot at 0x7f009b644198>"
            ]
          },
          "metadata": {
            "tags": []
          },
          "execution_count": 43
        },
        {
          "output_type": "display_data",
          "data": {
            "image/png": "[encoded data removed]",
            "text/plain": [
              "<Figure size 1008x864 with 2 Axes>"
            ]
          },
          "metadata": {
            "tags": []
          }
        }
      ]
    },
    {
      "cell_type": "code",
      "metadata": {
        "id": "KlYd4Gezq0LZ",
        "colab_type": "code",
        "colab": {
          "base_uri": "https://localhost:8080/",
          "height": 1000
        },
        "outputId": "90c0d674-eed9-4ded-8c8f-d151d71acbdb"
      },
      "source": [
        "train.corr()"
      ],
      "execution_count": 45,
      "outputs": [
        {
          "output_type": "execute_result",
          "data": {
            "text/html": [
              "<div>\n",
              "<style scoped>\n",
              "    .dataframe tbody tr th:only-of-type {\n",
              "        vertical-align: middle;\n",
              "    }\n",
              "\n",
              "    .dataframe tbody tr th {\n",
              "        vertical-align: top;\n",
              "    }\n",
              "\n",
              "    .dataframe thead th {\n",
              "        text-align: right;\n",
              "    }\n",
              "</style>\n",
              "<table border=\"1\" class=\"dataframe\">\n",
              "  <thead>\n",
              "    <tr style=\"text-align: right;\">\n",
              "      <th></th>\n",
              "      <th>Platform Type</th>\n",
              "      <th>Placement - Day of Month</th>\n",
              "      <th>Placement - Weekday (Mo = 1)</th>\n",
              "      <th>Confirmation - Day of Month</th>\n",
              "      <th>Confirmation - Weekday (Mo = 1)</th>\n",
              "      <th>Arrival at Pickup - Day of Month</th>\n",
              "      <th>Arrival at Pickup - Weekday (Mo = 1)</th>\n",
              "      <th>Pickup - Day of Month</th>\n",
              "      <th>Pickup - Weekday (Mo = 1)</th>\n",
              "      <th>Arrival at Destination - Day of Month</th>\n",
              "      <th>Arrival at Destination - Weekday (Mo = 1)</th>\n",
              "      <th>Distance (KM)</th>\n",
              "      <th>Temperature</th>\n",
              "      <th>Precipitation in millimeters</th>\n",
              "      <th>Pickup Lat</th>\n",
              "      <th>Pickup Long</th>\n",
              "      <th>Destination Lat</th>\n",
              "      <th>Destination Long</th>\n",
              "      <th>Time from Pickup to Arrival</th>\n",
              "    </tr>\n",
              "  </thead>\n",
              "  <tbody>\n",
              "    <tr>\n",
              "      <th>Platform Type</th>\n",
              "      <td>1.000000</td>\n",
              "      <td>0.012764</td>\n",
              "      <td>-0.058038</td>\n",
              "      <td>0.012770</td>\n",
              "      <td>-0.058005</td>\n",
              "      <td>0.012770</td>\n",
              "      <td>-0.058005</td>\n",
              "      <td>0.012770</td>\n",
              "      <td>-0.058005</td>\n",
              "      <td>0.012770</td>\n",
              "      <td>-0.058005</td>\n",
              "      <td>0.005528</td>\n",
              "      <td>0.225060</td>\n",
              "      <td>-0.055948</td>\n",
              "      <td>-0.002742</td>\n",
              "      <td>0.021327</td>\n",
              "      <td>0.006319</td>\n",
              "      <td>0.043924</td>\n",
              "      <td>-0.003827</td>\n",
              "    </tr>\n",
              "    <tr>\n",
              "      <th>Placement - Day of Month</th>\n",
              "      <td>0.012764</td>\n",
              "      <td>1.000000</td>\n",
              "      <td>0.026148</td>\n",
              "      <td>0.999998</td>\n",
              "      <td>0.026122</td>\n",
              "      <td>0.999998</td>\n",
              "      <td>0.026122</td>\n",
              "      <td>0.999998</td>\n",
              "      <td>0.026122</td>\n",
              "      <td>0.999998</td>\n",
              "      <td>0.026122</td>\n",
              "      <td>-0.007585</td>\n",
              "      <td>0.013097</td>\n",
              "      <td>-0.204143</td>\n",
              "      <td>-0.004929</td>\n",
              "      <td>-0.005453</td>\n",
              "      <td>0.007541</td>\n",
              "      <td>0.002077</td>\n",
              "      <td>-0.014710</td>\n",
              "    </tr>\n",
              "    <tr>\n",
              "      <th>Placement - Weekday (Mo = 1)</th>\n",
              "      <td>-0.058038</td>\n",
              "      <td>0.026148</td>\n",
              "      <td>1.000000</td>\n",
              "      <td>0.026132</td>\n",
              "      <td>0.999952</td>\n",
              "      <td>0.026132</td>\n",
              "      <td>0.999952</td>\n",
              "      <td>0.026132</td>\n",
              "      <td>0.999952</td>\n",
              "      <td>0.026132</td>\n",
              "      <td>0.999952</td>\n",
              "      <td>0.003582</td>\n",
              "      <td>0.031064</td>\n",
              "      <td>-0.050592</td>\n",
              "      <td>-0.000918</td>\n",
              "      <td>0.011008</td>\n",
              "      <td>-0.004299</td>\n",
              "      <td>-0.000875</td>\n",
              "      <td>0.009693</td>\n",
              "    </tr>\n",
              "    <tr>\n",
              "      <th>Confirmation - Day of Month</th>\n",
              "      <td>0.012770</td>\n",
              "      <td>0.999998</td>\n",
              "      <td>0.026132</td>\n",
              "      <td>1.000000</td>\n",
              "      <td>0.026123</td>\n",
              "      <td>1.000000</td>\n",
              "      <td>0.026123</td>\n",
              "      <td>1.000000</td>\n",
              "      <td>0.026123</td>\n",
              "      <td>1.000000</td>\n",
              "      <td>0.026123</td>\n",
              "      <td>-0.007587</td>\n",
              "      <td>0.013099</td>\n",
              "      <td>-0.204143</td>\n",
              "      <td>-0.004923</td>\n",
              "      <td>-0.005448</td>\n",
              "      <td>0.007550</td>\n",
              "      <td>0.002073</td>\n",
              "      <td>-0.014701</td>\n",
              "    </tr>\n",
              "    <tr>\n",
              "      <th>Confirmation - Weekday (Mo = 1)</th>\n",
              "      <td>-0.058005</td>\n",
              "      <td>0.026122</td>\n",
              "      <td>0.999952</td>\n",
              "      <td>0.026123</td>\n",
              "      <td>1.000000</td>\n",
              "      <td>0.026123</td>\n",
              "      <td>1.000000</td>\n",
              "      <td>0.026123</td>\n",
              "      <td>1.000000</td>\n",
              "      <td>0.026123</td>\n",
              "      <td>1.000000</td>\n",
              "      <td>0.003574</td>\n",
              "      <td>0.031074</td>\n",
              "      <td>-0.050592</td>\n",
              "      <td>-0.000883</td>\n",
              "      <td>0.011036</td>\n",
              "      <td>-0.004251</td>\n",
              "      <td>-0.000900</td>\n",
              "      <td>0.009744</td>\n",
              "    </tr>\n",
              "    <tr>\n",
              "      <th>Arrival at Pickup - Day of Month</th>\n",
              "      <td>0.012770</td>\n",
              "      <td>0.999998</td>\n",
              "      <td>0.026132</td>\n",
              "      <td>1.000000</td>\n",
              "      <td>0.026123</td>\n",
              "      <td>1.000000</td>\n",
              "      <td>0.026123</td>\n",
              "      <td>1.000000</td>\n",
              "      <td>0.026123</td>\n",
              "      <td>1.000000</td>\n",
              "      <td>0.026123</td>\n",
              "      <td>-0.007587</td>\n",
              "      <td>0.013099</td>\n",
              "      <td>-0.204143</td>\n",
              "      <td>-0.004923</td>\n",
              "      <td>-0.005448</td>\n",
              "      <td>0.007550</td>\n",
              "      <td>0.002073</td>\n",
              "      <td>-0.014701</td>\n",
              "    </tr>\n",
              "    <tr>\n",
              "      <th>Arrival at Pickup - Weekday (Mo = 1)</th>\n",
              "      <td>-0.058005</td>\n",
              "      <td>0.026122</td>\n",
              "      <td>0.999952</td>\n",
              "      <td>0.026123</td>\n",
              "      <td>1.000000</td>\n",
              "      <td>0.026123</td>\n",
              "      <td>1.000000</td>\n",
              "      <td>0.026123</td>\n",
              "      <td>1.000000</td>\n",
              "      <td>0.026123</td>\n",
              "      <td>1.000000</td>\n",
              "      <td>0.003574</td>\n",
              "      <td>0.031074</td>\n",
              "      <td>-0.050592</td>\n",
              "      <td>-0.000883</td>\n",
              "      <td>0.011036</td>\n",
              "      <td>-0.004251</td>\n",
              "      <td>-0.000900</td>\n",
              "      <td>0.009744</td>\n",
              "    </tr>\n",
              "    <tr>\n",
              "      <th>Pickup - Day of Month</th>\n",
              "      <td>0.012770</td>\n",
              "      <td>0.999998</td>\n",
              "      <td>0.026132</td>\n",
              "      <td>1.000000</td>\n",
              "      <td>0.026123</td>\n",
              "      <td>1.000000</td>\n",
              "      <td>0.026123</td>\n",
              "      <td>1.000000</td>\n",
              "      <td>0.026123</td>\n",
              "      <td>1.000000</td>\n",
              "      <td>0.026123</td>\n",
              "      <td>-0.007587</td>\n",
              "      <td>0.013099</td>\n",
              "      <td>-0.204143</td>\n",
              "      <td>-0.004923</td>\n",
              "      <td>-0.005448</td>\n",
              "      <td>0.007550</td>\n",
              "      <td>0.002073</td>\n",
              "      <td>-0.014701</td>\n",
              "    </tr>\n",
              "    <tr>\n",
              "      <th>Pickup - Weekday (Mo = 1)</th>\n",
              "      <td>-0.058005</td>\n",
              "      <td>0.026122</td>\n",
              "      <td>0.999952</td>\n",
              "      <td>0.026123</td>\n",
              "      <td>1.000000</td>\n",
              "      <td>0.026123</td>\n",
              "      <td>1.000000</td>\n",
              "      <td>0.026123</td>\n",
              "      <td>1.000000</td>\n",
              "      <td>0.026123</td>\n",
              "      <td>1.000000</td>\n",
              "      <td>0.003574</td>\n",
              "      <td>0.031074</td>\n",
              "      <td>-0.050592</td>\n",
              "      <td>-0.000883</td>\n",
              "      <td>0.011036</td>\n",
              "      <td>-0.004251</td>\n",
              "      <td>-0.000900</td>\n",
              "      <td>0.009744</td>\n",
              "    </tr>\n",
              "    <tr>\n",
              "      <th>Arrival at Destination - Day of Month</th>\n",
              "      <td>0.012770</td>\n",
              "      <td>0.999998</td>\n",
              "      <td>0.026132</td>\n",
              "      <td>1.000000</td>\n",
              "      <td>0.026123</td>\n",
              "      <td>1.000000</td>\n",
              "      <td>0.026123</td>\n",
              "      <td>1.000000</td>\n",
              "      <td>0.026123</td>\n",
              "      <td>1.000000</td>\n",
              "      <td>0.026123</td>\n",
              "      <td>-0.007587</td>\n",
              "      <td>0.013099</td>\n",
              "      <td>-0.204143</td>\n",
              "      <td>-0.004923</td>\n",
              "      <td>-0.005448</td>\n",
              "      <td>0.007550</td>\n",
              "      <td>0.002073</td>\n",
              "      <td>-0.014701</td>\n",
              "    </tr>\n",
              "    <tr>\n",
              "      <th>Arrival at Destination - Weekday (Mo = 1)</th>\n",
              "      <td>-0.058005</td>\n",
              "      <td>0.026122</td>\n",
              "      <td>0.999952</td>\n",
              "      <td>0.026123</td>\n",
              "      <td>1.000000</td>\n",
              "      <td>0.026123</td>\n",
              "      <td>1.000000</td>\n",
              "      <td>0.026123</td>\n",
              "      <td>1.000000</td>\n",
              "      <td>0.026123</td>\n",
              "      <td>1.000000</td>\n",
              "      <td>0.003574</td>\n",
              "      <td>0.031074</td>\n",
              "      <td>-0.050592</td>\n",
              "      <td>-0.000883</td>\n",
              "      <td>0.011036</td>\n",
              "      <td>-0.004251</td>\n",
              "      <td>-0.000900</td>\n",
              "      <td>0.009744</td>\n",
              "    </tr>\n",
              "    <tr>\n",
              "      <th>Distance (KM)</th>\n",
              "      <td>0.005528</td>\n",
              "      <td>-0.007585</td>\n",
              "      <td>0.003582</td>\n",
              "      <td>-0.007587</td>\n",
              "      <td>0.003574</td>\n",
              "      <td>-0.007587</td>\n",
              "      <td>0.003574</td>\n",
              "      <td>-0.007587</td>\n",
              "      <td>0.003574</td>\n",
              "      <td>-0.007587</td>\n",
              "      <td>0.003574</td>\n",
              "      <td>1.000000</td>\n",
              "      <td>-0.002335</td>\n",
              "      <td>-0.036237</td>\n",
              "      <td>-0.124338</td>\n",
              "      <td>0.178537</td>\n",
              "      <td>-0.079366</td>\n",
              "      <td>0.135397</td>\n",
              "      <td>0.580608</td>\n",
              "    </tr>\n",
              "    <tr>\n",
              "      <th>Temperature</th>\n",
              "      <td>0.225060</td>\n",
              "      <td>0.013097</td>\n",
              "      <td>0.031064</td>\n",
              "      <td>0.013099</td>\n",
              "      <td>0.031074</td>\n",
              "      <td>0.013099</td>\n",
              "      <td>0.031074</td>\n",
              "      <td>0.013099</td>\n",
              "      <td>0.031074</td>\n",
              "      <td>0.013099</td>\n",
              "      <td>0.031074</td>\n",
              "      <td>-0.002335</td>\n",
              "      <td>1.000000</td>\n",
              "      <td>-0.181327</td>\n",
              "      <td>0.017916</td>\n",
              "      <td>0.008746</td>\n",
              "      <td>0.010420</td>\n",
              "      <td>0.026297</td>\n",
              "      <td>0.006465</td>\n",
              "    </tr>\n",
              "    <tr>\n",
              "      <th>Precipitation in millimeters</th>\n",
              "      <td>-0.055948</td>\n",
              "      <td>-0.204143</td>\n",
              "      <td>-0.050592</td>\n",
              "      <td>-0.204143</td>\n",
              "      <td>-0.050592</td>\n",
              "      <td>-0.204143</td>\n",
              "      <td>-0.050592</td>\n",
              "      <td>-0.204143</td>\n",
              "      <td>-0.050592</td>\n",
              "      <td>-0.204143</td>\n",
              "      <td>-0.050592</td>\n",
              "      <td>-0.036237</td>\n",
              "      <td>-0.181327</td>\n",
              "      <td>1.000000</td>\n",
              "      <td>-0.015388</td>\n",
              "      <td>-0.060514</td>\n",
              "      <td>0.009202</td>\n",
              "      <td>0.067936</td>\n",
              "      <td>0.024756</td>\n",
              "    </tr>\n",
              "    <tr>\n",
              "      <th>Pickup Lat</th>\n",
              "      <td>-0.002742</td>\n",
              "      <td>-0.004929</td>\n",
              "      <td>-0.000918</td>\n",
              "      <td>-0.004923</td>\n",
              "      <td>-0.000883</td>\n",
              "      <td>-0.004923</td>\n",
              "      <td>-0.000883</td>\n",
              "      <td>-0.004923</td>\n",
              "      <td>-0.000883</td>\n",
              "      <td>-0.004923</td>\n",
              "      <td>-0.000883</td>\n",
              "      <td>-0.124338</td>\n",
              "      <td>0.017916</td>\n",
              "      <td>-0.015388</td>\n",
              "      <td>1.000000</td>\n",
              "      <td>-0.147629</td>\n",
              "      <td>0.114975</td>\n",
              "      <td>0.051399</td>\n",
              "      <td>-0.053823</td>\n",
              "    </tr>\n",
              "    <tr>\n",
              "      <th>Pickup Long</th>\n",
              "      <td>0.021327</td>\n",
              "      <td>-0.005453</td>\n",
              "      <td>0.011008</td>\n",
              "      <td>-0.005448</td>\n",
              "      <td>0.011036</td>\n",
              "      <td>-0.005448</td>\n",
              "      <td>0.011036</td>\n",
              "      <td>-0.005448</td>\n",
              "      <td>0.011036</td>\n",
              "      <td>-0.005448</td>\n",
              "      <td>0.011036</td>\n",
              "      <td>0.178537</td>\n",
              "      <td>0.008746</td>\n",
              "      <td>-0.060514</td>\n",
              "      <td>-0.147629</td>\n",
              "      <td>1.000000</td>\n",
              "      <td>0.014992</td>\n",
              "      <td>0.082803</td>\n",
              "      <td>0.060285</td>\n",
              "    </tr>\n",
              "    <tr>\n",
              "      <th>Destination Lat</th>\n",
              "      <td>0.006319</td>\n",
              "      <td>0.007541</td>\n",
              "      <td>-0.004299</td>\n",
              "      <td>0.007550</td>\n",
              "      <td>-0.004251</td>\n",
              "      <td>0.007550</td>\n",
              "      <td>-0.004251</td>\n",
              "      <td>0.007550</td>\n",
              "      <td>-0.004251</td>\n",
              "      <td>0.007550</td>\n",
              "      <td>-0.004251</td>\n",
              "      <td>-0.079366</td>\n",
              "      <td>0.010420</td>\n",
              "      <td>0.009202</td>\n",
              "      <td>0.114975</td>\n",
              "      <td>0.014992</td>\n",
              "      <td>1.000000</td>\n",
              "      <td>0.046767</td>\n",
              "      <td>-0.061872</td>\n",
              "    </tr>\n",
              "    <tr>\n",
              "      <th>Destination Long</th>\n",
              "      <td>0.043924</td>\n",
              "      <td>0.002077</td>\n",
              "      <td>-0.000875</td>\n",
              "      <td>0.002073</td>\n",
              "      <td>-0.000900</td>\n",
              "      <td>0.002073</td>\n",
              "      <td>-0.000900</td>\n",
              "      <td>0.002073</td>\n",
              "      <td>-0.000900</td>\n",
              "      <td>0.002073</td>\n",
              "      <td>-0.000900</td>\n",
              "      <td>0.135397</td>\n",
              "      <td>0.026297</td>\n",
              "      <td>0.067936</td>\n",
              "      <td>0.051399</td>\n",
              "      <td>0.082803</td>\n",
              "      <td>0.046767</td>\n",
              "      <td>1.000000</td>\n",
              "      <td>0.070425</td>\n",
              "    </tr>\n",
              "    <tr>\n",
              "      <th>Time from Pickup to Arrival</th>\n",
              "      <td>-0.003827</td>\n",
              "      <td>-0.014710</td>\n",
              "      <td>0.009693</td>\n",
              "      <td>-0.014701</td>\n",
              "      <td>0.009744</td>\n",
              "      <td>-0.014701</td>\n",
              "      <td>0.009744</td>\n",
              "      <td>-0.014701</td>\n",
              "      <td>0.009744</td>\n",
              "      <td>-0.014701</td>\n",
              "      <td>0.009744</td>\n",
              "      <td>0.580608</td>\n",
              "      <td>0.006465</td>\n",
              "      <td>0.024756</td>\n",
              "      <td>-0.053823</td>\n",
              "      <td>0.060285</td>\n",
              "      <td>-0.061872</td>\n",
              "      <td>0.070425</td>\n",
              "      <td>1.000000</td>\n",
              "    </tr>\n",
              "  </tbody>\n",
              "</table>\n",
              "</div>"
            ],
            "text/plain": [
              "                                           Platform Type  ...  Time from Pickup to Arrival\n",
              "Platform Type                                   1.000000  ...                    -0.003827\n",
              "Placement - Day of Month                        0.012764  ...                    -0.014710\n",
              "Placement - Weekday (Mo = 1)                   -0.058038  ...                     0.009693\n",
              "Confirmation - Day of Month                     0.012770  ...                    -0.014701\n",
              "Confirmation - Weekday (Mo = 1)                -0.058005  ...                     0.009744\n",
              "Arrival at Pickup - Day of Month                0.012770  ...                    -0.014701\n",
              "Arrival at Pickup - Weekday (Mo = 1)           -0.058005  ...                     0.009744\n",
              "Pickup - Day of Month                           0.012770  ...                    -0.014701\n",
              "Pickup - Weekday (Mo = 1)                      -0.058005  ...                     0.009744\n",
              "Arrival at Destination - Day of Month           0.012770  ...                    -0.014701\n",
              "Arrival at Destination - Weekday (Mo = 1)      -0.058005  ...                     0.009744\n",
              "Distance (KM)                                   0.005528  ...                     0.580608\n",
              "Temperature                                     0.225060  ...                     0.006465\n",
              "Precipitation in millimeters                   -0.055948  ...                     0.024756\n",
              "Pickup Lat                                     -0.002742  ...                    -0.053823\n",
              "Pickup Long                                     0.021327  ...                     0.060285\n",
              "Destination Lat                                 0.006319  ...                    -0.061872\n",
              "Destination Long                                0.043924  ...                     0.070425\n",
              "Time from Pickup to Arrival                    -0.003827  ...                     1.000000\n",
              "\n",
              "[19 rows x 19 columns]"
            ]
          },
          "metadata": {
            "tags": []
          },
          "execution_count": 45
        }
      ]
    },
    {
      "cell_type": "markdown",
      "metadata": {
        "id": "uYnfLjj1sme-",
        "colab_type": "text"
      },
      "source": [
        "**Observations**\n",
        "\n",
        "*   The dependent variable is the most correlated with distance.\n",
        "*   The columns for placement,confirmation,arrival at pickup (day of the month and weekday) are most correlated with each other. This attribute could pose a problem with multicollinearity when training the model.\n",
        "*  Intuitively we expect to see high correlation between distance and the latitude and longitude columns, however, the correlation is not high. We may have to introduce normalization or standardization to the dataset, and we may have to select variables on the bases of minimal collinearity.\n",
        "\n",
        "\n",
        "\n",
        "\n"
      ]
    },
    {
      "cell_type": "markdown",
      "metadata": {
        "id": "aUDGVWV9tr2h",
        "colab_type": "text"
      },
      "source": [
        "# Data Preprocessing"
      ]
    },
    {
      "cell_type": "markdown",
      "metadata": {
        "id": "Yqi990WDt5O4",
        "colab_type": "text"
      },
      "source": [
        "**Drop Columns**"
      ]
    },
    {
      "cell_type": "code",
      "metadata": {
        "id": "U1-pUnu4Woox",
        "colab_type": "code",
        "outputId": "3a7a6e66-63d8-4865-823f-37f5c6b61099",
        "colab": {
          "base_uri": "https://localhost:8080/",
          "height": 411
        }
      },
      "source": [
        "\n",
        "copy=train.copy()\n",
        "copy.drop(['Vehicle Type','Arrival at Destination - Day of Month','Arrival at Destination - Weekday (Mo = 1)','Arrival at Destination - Time', 'Order No'], axis=1, inplace=True)\n",
        "copy.head()"
      ],
      "execution_count": 87,
      "outputs": [
        {
          "output_type": "execute_result",
          "data": {
            "text/html": [
              "<div>\n",
              "<style scoped>\n",
              "    .dataframe tbody tr th:only-of-type {\n",
              "        vertical-align: middle;\n",
              "    }\n",
              "\n",
              "    .dataframe tbody tr th {\n",
              "        vertical-align: top;\n",
              "    }\n",
              "\n",
              "    .dataframe thead th {\n",
              "        text-align: right;\n",
              "    }\n",
              "</style>\n",
              "<table border=\"1\" class=\"dataframe\">\n",
              "  <thead>\n",
              "    <tr style=\"text-align: right;\">\n",
              "      <th></th>\n",
              "      <th>User Id</th>\n",
              "      <th>Platform Type</th>\n",
              "      <th>Personal or Business</th>\n",
              "      <th>Placement - Day of Month</th>\n",
              "      <th>Placement - Weekday (Mo = 1)</th>\n",
              "      <th>Placement - Time</th>\n",
              "      <th>Confirmation - Day of Month</th>\n",
              "      <th>Confirmation - Weekday (Mo = 1)</th>\n",
              "      <th>Confirmation - Time</th>\n",
              "      <th>Arrival at Pickup - Day of Month</th>\n",
              "      <th>Arrival at Pickup - Weekday (Mo = 1)</th>\n",
              "      <th>Arrival at Pickup - Time</th>\n",
              "      <th>Pickup - Day of Month</th>\n",
              "      <th>Pickup - Weekday (Mo = 1)</th>\n",
              "      <th>Pickup - Time</th>\n",
              "      <th>Distance (KM)</th>\n",
              "      <th>Temperature</th>\n",
              "      <th>Precipitation in millimeters</th>\n",
              "      <th>Pickup Lat</th>\n",
              "      <th>Pickup Long</th>\n",
              "      <th>Destination Lat</th>\n",
              "      <th>Destination Long</th>\n",
              "      <th>Rider Id</th>\n",
              "      <th>Time from Pickup to Arrival</th>\n",
              "    </tr>\n",
              "  </thead>\n",
              "  <tbody>\n",
              "    <tr>\n",
              "      <th>0</th>\n",
              "      <td>User_Id_633</td>\n",
              "      <td>3</td>\n",
              "      <td>Business</td>\n",
              "      <td>9</td>\n",
              "      <td>5</td>\n",
              "      <td>9:35:46 AM</td>\n",
              "      <td>9</td>\n",
              "      <td>5</td>\n",
              "      <td>9:40:10 AM</td>\n",
              "      <td>9</td>\n",
              "      <td>5</td>\n",
              "      <td>10:04:47 AM</td>\n",
              "      <td>9</td>\n",
              "      <td>5</td>\n",
              "      <td>10:27:30 AM</td>\n",
              "      <td>4</td>\n",
              "      <td>20.4</td>\n",
              "      <td>NaN</td>\n",
              "      <td>-1.317755</td>\n",
              "      <td>36.830370</td>\n",
              "      <td>-1.300406</td>\n",
              "      <td>36.829741</td>\n",
              "      <td>Rider_Id_432</td>\n",
              "      <td>745</td>\n",
              "    </tr>\n",
              "    <tr>\n",
              "      <th>1</th>\n",
              "      <td>User_Id_2285</td>\n",
              "      <td>3</td>\n",
              "      <td>Personal</td>\n",
              "      <td>12</td>\n",
              "      <td>5</td>\n",
              "      <td>11:16:16 AM</td>\n",
              "      <td>12</td>\n",
              "      <td>5</td>\n",
              "      <td>11:23:21 AM</td>\n",
              "      <td>12</td>\n",
              "      <td>5</td>\n",
              "      <td>11:40:22 AM</td>\n",
              "      <td>12</td>\n",
              "      <td>5</td>\n",
              "      <td>11:44:09 AM</td>\n",
              "      <td>16</td>\n",
              "      <td>26.4</td>\n",
              "      <td>NaN</td>\n",
              "      <td>-1.351453</td>\n",
              "      <td>36.899315</td>\n",
              "      <td>-1.295004</td>\n",
              "      <td>36.814358</td>\n",
              "      <td>Rider_Id_856</td>\n",
              "      <td>1993</td>\n",
              "    </tr>\n",
              "    <tr>\n",
              "      <th>2</th>\n",
              "      <td>User_Id_265</td>\n",
              "      <td>3</td>\n",
              "      <td>Business</td>\n",
              "      <td>30</td>\n",
              "      <td>2</td>\n",
              "      <td>12:39:25 PM</td>\n",
              "      <td>30</td>\n",
              "      <td>2</td>\n",
              "      <td>12:42:44 PM</td>\n",
              "      <td>30</td>\n",
              "      <td>2</td>\n",
              "      <td>12:49:34 PM</td>\n",
              "      <td>30</td>\n",
              "      <td>2</td>\n",
              "      <td>12:53:03 PM</td>\n",
              "      <td>3</td>\n",
              "      <td>NaN</td>\n",
              "      <td>NaN</td>\n",
              "      <td>-1.308284</td>\n",
              "      <td>36.843419</td>\n",
              "      <td>-1.300921</td>\n",
              "      <td>36.828195</td>\n",
              "      <td>Rider_Id_155</td>\n",
              "      <td>455</td>\n",
              "    </tr>\n",
              "    <tr>\n",
              "      <th>3</th>\n",
              "      <td>User_Id_1402</td>\n",
              "      <td>3</td>\n",
              "      <td>Business</td>\n",
              "      <td>15</td>\n",
              "      <td>5</td>\n",
              "      <td>9:25:34 AM</td>\n",
              "      <td>15</td>\n",
              "      <td>5</td>\n",
              "      <td>9:26:05 AM</td>\n",
              "      <td>15</td>\n",
              "      <td>5</td>\n",
              "      <td>9:37:56 AM</td>\n",
              "      <td>15</td>\n",
              "      <td>5</td>\n",
              "      <td>9:43:06 AM</td>\n",
              "      <td>9</td>\n",
              "      <td>19.2</td>\n",
              "      <td>NaN</td>\n",
              "      <td>-1.281301</td>\n",
              "      <td>36.832396</td>\n",
              "      <td>-1.257147</td>\n",
              "      <td>36.795063</td>\n",
              "      <td>Rider_Id_855</td>\n",
              "      <td>1341</td>\n",
              "    </tr>\n",
              "    <tr>\n",
              "      <th>4</th>\n",
              "      <td>User_Id_1737</td>\n",
              "      <td>1</td>\n",
              "      <td>Personal</td>\n",
              "      <td>13</td>\n",
              "      <td>1</td>\n",
              "      <td>9:55:18 AM</td>\n",
              "      <td>13</td>\n",
              "      <td>1</td>\n",
              "      <td>9:56:18 AM</td>\n",
              "      <td>13</td>\n",
              "      <td>1</td>\n",
              "      <td>10:03:53 AM</td>\n",
              "      <td>13</td>\n",
              "      <td>1</td>\n",
              "      <td>10:05:23 AM</td>\n",
              "      <td>9</td>\n",
              "      <td>15.4</td>\n",
              "      <td>NaN</td>\n",
              "      <td>-1.266597</td>\n",
              "      <td>36.792118</td>\n",
              "      <td>-1.295041</td>\n",
              "      <td>36.809817</td>\n",
              "      <td>Rider_Id_770</td>\n",
              "      <td>1214</td>\n",
              "    </tr>\n",
              "  </tbody>\n",
              "</table>\n",
              "</div>"
            ],
            "text/plain": [
              "        User Id  Platform Type  ...      Rider Id  Time from Pickup to Arrival\n",
              "0   User_Id_633              3  ...  Rider_Id_432                          745\n",
              "1  User_Id_2285              3  ...  Rider_Id_856                         1993\n",
              "2   User_Id_265              3  ...  Rider_Id_155                          455\n",
              "3  User_Id_1402              3  ...  Rider_Id_855                         1341\n",
              "4  User_Id_1737              1  ...  Rider_Id_770                         1214\n",
              "\n",
              "[5 rows x 24 columns]"
            ]
          },
          "metadata": {
            "tags": []
          },
          "execution_count": 87
        }
      ]
    },
    {
      "cell_type": "code",
      "metadata": {
        "id": "XXZcNi2HAQzn",
        "colab_type": "code",
        "colab": {
          "base_uri": "https://localhost:8080/",
          "height": 326
        },
        "outputId": "42f68d56-807d-4341-9e22-bd1808622fb1"
      },
      "source": [
        "copy[['a','b', 'UserId No']] = copy[\"User Id\"].str.split(\"_\", expand = True)\n",
        "copy[['c','d','RiderId No']] = copy[\"Rider Id\"].str.split(\"_\",  expand = True)\n",
        "\n",
        "copy.drop([\"User Id\",'Rider Id', 'a', 'b','c','d'], axis=1, inplace = True)\n",
        "copy.head()"
      ],
      "execution_count": 97,
      "outputs": [
        {
          "output_type": "execute_result",
          "data": {
            "text/html": [
              "<div>\n",
              "<style scoped>\n",
              "    .dataframe tbody tr th:only-of-type {\n",
              "        vertical-align: middle;\n",
              "    }\n",
              "\n",
              "    .dataframe tbody tr th {\n",
              "        vertical-align: top;\n",
              "    }\n",
              "\n",
              "    .dataframe thead th {\n",
              "        text-align: right;\n",
              "    }\n",
              "</style>\n",
              "<table border=\"1\" class=\"dataframe\">\n",
              "  <thead>\n",
              "    <tr style=\"text-align: right;\">\n",
              "      <th></th>\n",
              "      <th>Platform Type</th>\n",
              "      <th>Personal or Business</th>\n",
              "      <th>Placement - Day of Month</th>\n",
              "      <th>Placement - Weekday (Mo = 1)</th>\n",
              "      <th>Confirmation - Day of Month</th>\n",
              "      <th>Confirmation - Weekday (Mo = 1)</th>\n",
              "      <th>Arrival at Pickup - Day of Month</th>\n",
              "      <th>Arrival at Pickup - Weekday (Mo = 1)</th>\n",
              "      <th>Pickup - Day of Month</th>\n",
              "      <th>Pickup - Weekday (Mo = 1)</th>\n",
              "      <th>Distance (KM)</th>\n",
              "      <th>Temperature</th>\n",
              "      <th>Precipitation in millimeters</th>\n",
              "      <th>Pickup Lat</th>\n",
              "      <th>Pickup Long</th>\n",
              "      <th>Destination Lat</th>\n",
              "      <th>Destination Long</th>\n",
              "      <th>Placement - Time_Hour</th>\n",
              "      <th>Placement - Time_Minute</th>\n",
              "      <th>Placement - Time_Seconds</th>\n",
              "      <th>Confirmation - Time_Hour</th>\n",
              "      <th>Confirmation - Time_Minute</th>\n",
              "      <th>Confirmation - Time_Seconds</th>\n",
              "      <th>Arrival at Pickup - Time_Hour</th>\n",
              "      <th>Arrival at Pickup - Time_Minute</th>\n",
              "      <th>Arrival at Pickup - Time_Seconds</th>\n",
              "      <th>Pickup - Time_Hour</th>\n",
              "      <th>Pickup - Time_Minute</th>\n",
              "      <th>Pickup - Time_Seconds</th>\n",
              "      <th>Time from Pickup to Arrival</th>\n",
              "      <th>UserId No</th>\n",
              "      <th>RiderId No</th>\n",
              "    </tr>\n",
              "  </thead>\n",
              "  <tbody>\n",
              "    <tr>\n",
              "      <th>0</th>\n",
              "      <td>3</td>\n",
              "      <td>1</td>\n",
              "      <td>9</td>\n",
              "      <td>5</td>\n",
              "      <td>9</td>\n",
              "      <td>5</td>\n",
              "      <td>9</td>\n",
              "      <td>5</td>\n",
              "      <td>9</td>\n",
              "      <td>5</td>\n",
              "      <td>4</td>\n",
              "      <td>20.400000</td>\n",
              "      <td>7.905797</td>\n",
              "      <td>-1.317755</td>\n",
              "      <td>36.830370</td>\n",
              "      <td>-1.300406</td>\n",
              "      <td>36.829741</td>\n",
              "      <td>9</td>\n",
              "      <td>35</td>\n",
              "      <td>46</td>\n",
              "      <td>9</td>\n",
              "      <td>40</td>\n",
              "      <td>10</td>\n",
              "      <td>10</td>\n",
              "      <td>4</td>\n",
              "      <td>47</td>\n",
              "      <td>10</td>\n",
              "      <td>27</td>\n",
              "      <td>30</td>\n",
              "      <td>745</td>\n",
              "      <td>633</td>\n",
              "      <td>432</td>\n",
              "    </tr>\n",
              "    <tr>\n",
              "      <th>1</th>\n",
              "      <td>3</td>\n",
              "      <td>0</td>\n",
              "      <td>12</td>\n",
              "      <td>5</td>\n",
              "      <td>12</td>\n",
              "      <td>5</td>\n",
              "      <td>12</td>\n",
              "      <td>5</td>\n",
              "      <td>12</td>\n",
              "      <td>5</td>\n",
              "      <td>16</td>\n",
              "      <td>26.400000</td>\n",
              "      <td>7.905797</td>\n",
              "      <td>-1.351453</td>\n",
              "      <td>36.899315</td>\n",
              "      <td>-1.295004</td>\n",
              "      <td>36.814358</td>\n",
              "      <td>11</td>\n",
              "      <td>16</td>\n",
              "      <td>16</td>\n",
              "      <td>11</td>\n",
              "      <td>23</td>\n",
              "      <td>21</td>\n",
              "      <td>11</td>\n",
              "      <td>40</td>\n",
              "      <td>22</td>\n",
              "      <td>11</td>\n",
              "      <td>44</td>\n",
              "      <td>9</td>\n",
              "      <td>1993</td>\n",
              "      <td>2285</td>\n",
              "      <td>856</td>\n",
              "    </tr>\n",
              "    <tr>\n",
              "      <th>2</th>\n",
              "      <td>3</td>\n",
              "      <td>1</td>\n",
              "      <td>30</td>\n",
              "      <td>2</td>\n",
              "      <td>30</td>\n",
              "      <td>2</td>\n",
              "      <td>30</td>\n",
              "      <td>2</td>\n",
              "      <td>30</td>\n",
              "      <td>2</td>\n",
              "      <td>3</td>\n",
              "      <td>23.258889</td>\n",
              "      <td>7.905797</td>\n",
              "      <td>-1.308284</td>\n",
              "      <td>36.843419</td>\n",
              "      <td>-1.300921</td>\n",
              "      <td>36.828195</td>\n",
              "      <td>12</td>\n",
              "      <td>39</td>\n",
              "      <td>25</td>\n",
              "      <td>12</td>\n",
              "      <td>42</td>\n",
              "      <td>44</td>\n",
              "      <td>12</td>\n",
              "      <td>49</td>\n",
              "      <td>34</td>\n",
              "      <td>12</td>\n",
              "      <td>53</td>\n",
              "      <td>3</td>\n",
              "      <td>455</td>\n",
              "      <td>265</td>\n",
              "      <td>155</td>\n",
              "    </tr>\n",
              "    <tr>\n",
              "      <th>3</th>\n",
              "      <td>3</td>\n",
              "      <td>1</td>\n",
              "      <td>15</td>\n",
              "      <td>5</td>\n",
              "      <td>15</td>\n",
              "      <td>5</td>\n",
              "      <td>15</td>\n",
              "      <td>5</td>\n",
              "      <td>15</td>\n",
              "      <td>5</td>\n",
              "      <td>9</td>\n",
              "      <td>19.200000</td>\n",
              "      <td>7.905797</td>\n",
              "      <td>-1.281301</td>\n",
              "      <td>36.832396</td>\n",
              "      <td>-1.257147</td>\n",
              "      <td>36.795063</td>\n",
              "      <td>9</td>\n",
              "      <td>25</td>\n",
              "      <td>34</td>\n",
              "      <td>9</td>\n",
              "      <td>26</td>\n",
              "      <td>5</td>\n",
              "      <td>9</td>\n",
              "      <td>37</td>\n",
              "      <td>56</td>\n",
              "      <td>9</td>\n",
              "      <td>43</td>\n",
              "      <td>6</td>\n",
              "      <td>1341</td>\n",
              "      <td>1402</td>\n",
              "      <td>855</td>\n",
              "    </tr>\n",
              "    <tr>\n",
              "      <th>4</th>\n",
              "      <td>1</td>\n",
              "      <td>0</td>\n",
              "      <td>13</td>\n",
              "      <td>1</td>\n",
              "      <td>13</td>\n",
              "      <td>1</td>\n",
              "      <td>13</td>\n",
              "      <td>1</td>\n",
              "      <td>13</td>\n",
              "      <td>1</td>\n",
              "      <td>9</td>\n",
              "      <td>15.400000</td>\n",
              "      <td>7.905797</td>\n",
              "      <td>-1.266597</td>\n",
              "      <td>36.792118</td>\n",
              "      <td>-1.295041</td>\n",
              "      <td>36.809817</td>\n",
              "      <td>9</td>\n",
              "      <td>55</td>\n",
              "      <td>18</td>\n",
              "      <td>9</td>\n",
              "      <td>56</td>\n",
              "      <td>18</td>\n",
              "      <td>10</td>\n",
              "      <td>3</td>\n",
              "      <td>53</td>\n",
              "      <td>10</td>\n",
              "      <td>5</td>\n",
              "      <td>23</td>\n",
              "      <td>1214</td>\n",
              "      <td>1737</td>\n",
              "      <td>770</td>\n",
              "    </tr>\n",
              "  </tbody>\n",
              "</table>\n",
              "</div>"
            ],
            "text/plain": [
              "   Platform Type  Personal or Business  ...  UserId No  RiderId No\n",
              "0              3                     1  ...        633         432\n",
              "1              3                     0  ...       2285         856\n",
              "2              3                     1  ...        265         155\n",
              "3              3                     1  ...       1402         855\n",
              "4              1                     0  ...       1737         770\n",
              "\n",
              "[5 rows x 32 columns]"
            ]
          },
          "metadata": {
            "tags": []
          },
          "execution_count": 97
        }
      ]
    },
    {
      "cell_type": "code",
      "metadata": {
        "id": "uefvgzNzAhDp",
        "colab_type": "code",
        "colab": {}
      },
      "source": [
        "copy.rename(columns={'UserId No':'User Id'}, inplace=True)\n",
        "copy.rename(columns={'RiderId No':'Rider Id'}, inplace=True)"
      ],
      "execution_count": 0,
      "outputs": []
    },
    {
      "cell_type": "markdown",
      "metadata": {
        "id": "4EhTu3EkvB-n",
        "colab_type": "text"
      },
      "source": [
        "**Convert time Columns**"
      ]
    },
    {
      "cell_type": "code",
      "metadata": {
        "id": "j0fmscxFWoo-",
        "colab_type": "code",
        "colab": {
          "base_uri": "https://localhost:8080/",
          "height": 142
        },
        "outputId": "36da2b01-f60c-4e0e-d23f-cbba1c16ed3a"
      },
      "source": [
        "def time_converter(copy):\n",
        "    for x in copy.columns:\n",
        "        if x.endswith(\"Time\"):\n",
        "            copy[x] = pd.to_datetime(copy[x], format='%I:%M:%S %p').dt.strftime(\"%H:%M:%S\")\n",
        "    return copy\n",
        "\n",
        "copy = time_converter(copy)\n",
        "copy[['Placement - Time', 'Confirmation - Time' , 'Arrival at Pickup - Time', 'Pickup - Time']][3:6]"
      ],
      "execution_count": 88,
      "outputs": [
        {
          "output_type": "execute_result",
          "data": {
            "text/html": [
              "<div>\n",
              "<style scoped>\n",
              "    .dataframe tbody tr th:only-of-type {\n",
              "        vertical-align: middle;\n",
              "    }\n",
              "\n",
              "    .dataframe tbody tr th {\n",
              "        vertical-align: top;\n",
              "    }\n",
              "\n",
              "    .dataframe thead th {\n",
              "        text-align: right;\n",
              "    }\n",
              "</style>\n",
              "<table border=\"1\" class=\"dataframe\">\n",
              "  <thead>\n",
              "    <tr style=\"text-align: right;\">\n",
              "      <th></th>\n",
              "      <th>Placement - Time</th>\n",
              "      <th>Confirmation - Time</th>\n",
              "      <th>Arrival at Pickup - Time</th>\n",
              "      <th>Pickup - Time</th>\n",
              "    </tr>\n",
              "  </thead>\n",
              "  <tbody>\n",
              "    <tr>\n",
              "      <th>3</th>\n",
              "      <td>09:25:34</td>\n",
              "      <td>09:26:05</td>\n",
              "      <td>09:37:56</td>\n",
              "      <td>09:43:06</td>\n",
              "    </tr>\n",
              "    <tr>\n",
              "      <th>4</th>\n",
              "      <td>09:55:18</td>\n",
              "      <td>09:56:18</td>\n",
              "      <td>10:03:53</td>\n",
              "      <td>10:05:23</td>\n",
              "    </tr>\n",
              "    <tr>\n",
              "      <th>5</th>\n",
              "      <td>15:07:35</td>\n",
              "      <td>15:08:57</td>\n",
              "      <td>15:21:36</td>\n",
              "      <td>15:30:30</td>\n",
              "    </tr>\n",
              "  </tbody>\n",
              "</table>\n",
              "</div>"
            ],
            "text/plain": [
              "  Placement - Time Confirmation - Time Arrival at Pickup - Time Pickup - Time\n",
              "3         09:25:34            09:26:05                 09:37:56      09:43:06\n",
              "4         09:55:18            09:56:18                 10:03:53      10:05:23\n",
              "5         15:07:35            15:08:57                 15:21:36      15:30:30"
            ]
          },
          "metadata": {
            "tags": []
          },
          "execution_count": 88
        }
      ]
    },
    {
      "cell_type": "code",
      "metadata": {
        "id": "y6sGR8ynX_Pc",
        "colab_type": "code",
        "colab": {}
      },
      "source": [
        "copy['Placement - Time_Hour'] = pd.to_datetime(copy['Placement - Time']).dt.hour\n",
        "copy['Placement - Time_Minute'] = pd.to_datetime(copy['Placement - Time']).dt.minute\n",
        "copy['Placement - Time_Seconds'] = pd.to_datetime(copy['Placement - Time']).dt.second\n",
        "\n",
        "copy['Confirmation - Time_Hour'] = pd.to_datetime(copy['Confirmation - Time']).dt.hour\n",
        "copy['Confirmation - Time_Minute'] = pd.to_datetime(copy['Confirmation - Time']).dt.minute\n",
        "copy['Confirmation - Time_Seconds'] = pd.to_datetime(copy['Confirmation - Time']).dt.second\n",
        "\n",
        "copy['Arrival at Pickup - Time_Hour'] = pd.to_datetime(copy['Arrival at Pickup - Time']).dt.hour\n",
        "copy['Arrival at Pickup - Time_Minute'] = pd.to_datetime(copy['Arrival at Pickup - Time']).dt.minute\n",
        "copy['Arrival at Pickup - Time_Seconds'] = pd.to_datetime(copy['Arrival at Pickup - Time']).dt.second\n",
        "\n",
        "copy['Pickup - Time_Hour'] = pd.to_datetime(copy['Pickup - Time']).dt.hour\n",
        "copy['Pickup - Time_Minute'] = pd.to_datetime(copy['Pickup - Time']).dt.minute\n",
        "copy['Pickup - Time_Seconds'] = pd.to_datetime(copy['Pickup - Time']).dt.second"
      ],
      "execution_count": 0,
      "outputs": []
    },
    {
      "cell_type": "code",
      "metadata": {
        "id": "UoH9M0NZWopz",
        "colab_type": "code",
        "colab": {}
      },
      "source": [
        "copy.drop(['Pickup - Time','Arrival at Pickup - Time','Confirmation - Time','Placement - Time'], axis=1, inplace=True)\n"
      ],
      "execution_count": 0,
      "outputs": []
    },
    {
      "cell_type": "code",
      "metadata": {
        "id": "lJu2qQggWosv",
        "colab_type": "code",
        "colab": {}
      },
      "source": [
        "cols = list(copy.columns.values)\n",
        "cols.pop(cols.index('Time from Pickup to Arrival')) \n",
        "\n",
        "copy = copy[cols+['Time from Pickup to Arrival']]"
      ],
      "execution_count": 0,
      "outputs": []
    },
    {
      "cell_type": "markdown",
      "metadata": {
        "id": "K5uzYncW2KIb",
        "colab_type": "text"
      },
      "source": [
        "**Encoding Personal or Business Column**"
      ]
    },
    {
      "cell_type": "code",
      "metadata": {
        "id": "rdlacBDP12qh",
        "colab_type": "code",
        "colab": {
          "base_uri": "https://localhost:8080/",
          "height": 68
        },
        "outputId": "f8a9a33d-d4ac-41b3-900a-46b418e3478a"
      },
      "source": [
        "copy['Personal or Business'].unique()\n",
        "Bdict = {'Personal': 0, 'Business': 1}\n",
        "copy['Personal or Business'] = copy['Personal or Business'].map(Bdict)\n",
        "#Preview the values\n",
        "copy['Personal or Business'].value_counts()"
      ],
      "execution_count": 92,
      "outputs": [
        {
          "output_type": "execute_result",
          "data": {
            "text/plain": [
              "1    17384\n",
              "0     3817\n",
              "Name: Personal or Business, dtype: int64"
            ]
          },
          "metadata": {
            "tags": []
          },
          "execution_count": 92
        }
      ]
    },
    {
      "cell_type": "code",
      "metadata": {
        "id": "aYQKcpNG12-A",
        "colab_type": "code",
        "colab": {
          "base_uri": "https://localhost:8080/",
          "height": 34
        },
        "outputId": "9af18a53-d9fd-4a19-c157-2132e2369788"
      },
      "source": [
        "test['Personal or Business'].unique()\n",
        "Bdict = {'Personal': 0, 'Business': 1}\n",
        "test['Personal or Business'] = test['Personal or Business'].map(Bdict)\n",
        "#Preview the values\n",
        "test['Personal or Business'].value_counts()"
      ],
      "execution_count": 93,
      "outputs": [
        {
          "output_type": "execute_result",
          "data": {
            "text/plain": [
              "Series([], Name: Personal or Business, dtype: int64)"
            ]
          },
          "metadata": {
            "tags": []
          },
          "execution_count": 93
        }
      ]
    },
    {
      "cell_type": "markdown",
      "metadata": {
        "id": "dq5ShZup3Gu7",
        "colab_type": "text"
      },
      "source": [
        "**Filling Missing values**"
      ]
    },
    {
      "cell_type": "code",
      "metadata": {
        "id": "NVR3pU3613dK",
        "colab_type": "code",
        "colab": {}
      },
      "source": [
        "copy.fillna(copy.mean(), inplace=True)"
      ],
      "execution_count": 0,
      "outputs": []
    },
    {
      "cell_type": "code",
      "metadata": {
        "id": "kosW-RPPWotG",
        "colab_type": "code",
        "colab": {}
      },
      "source": [
        "test.fillna(test.mean(), inplace=True)"
      ],
      "execution_count": 0,
      "outputs": []
    },
    {
      "cell_type": "code",
      "metadata": {
        "id": "Uk4x3Mxe3dIP",
        "colab_type": "code",
        "colab": {}
      },
      "source": [
        ""
      ],
      "execution_count": 0,
      "outputs": []
    },
    {
      "cell_type": "markdown",
      "metadata": {
        "id": "0qLT5VHMAu1t",
        "colab_type": "text"
      },
      "source": [
        "# Training the Model"
      ]
    },
    {
      "cell_type": "code",
      "metadata": {
        "id": "t1SDqMjOWowp",
        "colab_type": "code",
        "colab": {}
      },
      "source": [
        "x = copy.drop(['Time from Pickup to Arrival'], axis=1)\n",
        "y = copy['Time from Pickup to Arrival']"
      ],
      "execution_count": 0,
      "outputs": []
    },
    {
      "cell_type": "markdown",
      "metadata": {
        "id": "MS3GpPZlBOWg",
        "colab_type": "text"
      },
      "source": [
        "**Splitting the data**"
      ]
    },
    {
      "cell_type": "code",
      "metadata": {
        "id": "EvSC8kQLuJSn",
        "colab_type": "code",
        "colab": {}
      },
      "source": [
        "from sklearn.model_selection import train_test_split\n",
        "X_train, X_test, y_train, y_test = train_test_split(x, y, test_size = 0.2, random_state = 50)"
      ],
      "execution_count": 0,
      "outputs": []
    },
    {
      "cell_type": "markdown",
      "metadata": {
        "id": "nOvMQ4daBgDO",
        "colab_type": "text"
      },
      "source": [
        "**Fitting the model**"
      ]
    },
    {
      "cell_type": "code",
      "metadata": {
        "id": "SJ2i21yQuI0g",
        "colab_type": "code",
        "colab": {
          "base_uri": "https://localhost:8080/",
          "height": 34
        },
        "outputId": "8e3ff5ba-10e6-48df-d0cd-102d2fbe73a7"
      },
      "source": [
        "from sklearn.linear_model import LinearRegression\n",
        "lm = LinearRegression()\n",
        "lm.fit(X_train, y_train)"
      ],
      "execution_count": 103,
      "outputs": [
        {
          "output_type": "execute_result",
          "data": {
            "text/plain": [
              "LinearRegression(copy_X=True, fit_intercept=True, n_jobs=None, normalize=False)"
            ]
          },
          "metadata": {
            "tags": []
          },
          "execution_count": 103
        }
      ]
    },
    {
      "cell_type": "markdown",
      "metadata": {
        "id": "yIOYc-fHCTsB",
        "colab_type": "text"
      },
      "source": [
        "Model Accuracy"
      ]
    },
    {
      "cell_type": "code",
      "metadata": {
        "id": "qzlr3ZR0GBlf",
        "colab_type": "code",
        "colab": {}
      },
      "source": [
        "from sklearn import metrics\n",
        "import math"
      ],
      "execution_count": 0,
      "outputs": []
    },
    {
      "cell_type": "code",
      "metadata": {
        "id": "-FgDjRcQGS44",
        "colab_type": "code",
        "colab": {}
      },
      "source": [
        "results_dict = {'Training MSE':\n",
        "                    {\n",
        "                    \n",
        "                        \"MLR\": metrics.mean_squared_error(y_train, lm.predict(X_train))\n",
        "                    },\n",
        "                'Test MSE':\n",
        "                    {\n",
        "                      \n",
        "                        \"MLR\": metrics.mean_squared_error(y_test, lm.predict(X_test))\n",
        "                    },\n",
        "                'Test RMSE':\n",
        "                    {\n",
        "                    \n",
        "                        \"MLR\": math.sqrt(metrics.mean_squared_error(y_test, lm.predict(X_test)))\n",
        "                    }\n",
        "                }"
      ],
      "execution_count": 0,
      "outputs": []
    },
    {
      "cell_type": "code",
      "metadata": {
        "id": "jAlywCl7GR29",
        "colab_type": "code",
        "colab": {}
      },
      "source": [
        "results_df = pd.DataFrame(data=results_dict)"
      ],
      "execution_count": 0,
      "outputs": []
    },
    {
      "cell_type": "code",
      "metadata": {
        "id": "cIuPfgqgGRRq",
        "colab_type": "code",
        "colab": {
          "base_uri": "https://localhost:8080/",
          "height": 80
        },
        "outputId": "758b47fb-0395-441b-880a-004fa52109e8"
      },
      "source": [
        "results_df"
      ],
      "execution_count": 114,
      "outputs": [
        {
          "output_type": "execute_result",
          "data": {
            "text/html": [
              "<div>\n",
              "<style scoped>\n",
              "    .dataframe tbody tr th:only-of-type {\n",
              "        vertical-align: middle;\n",
              "    }\n",
              "\n",
              "    .dataframe tbody tr th {\n",
              "        vertical-align: top;\n",
              "    }\n",
              "\n",
              "    .dataframe thead th {\n",
              "        text-align: right;\n",
              "    }\n",
              "</style>\n",
              "<table border=\"1\" class=\"dataframe\">\n",
              "  <thead>\n",
              "    <tr style=\"text-align: right;\">\n",
              "      <th></th>\n",
              "      <th>Training MSE</th>\n",
              "      <th>Test MSE</th>\n",
              "      <th>Test RMSE</th>\n",
              "    </tr>\n",
              "  </thead>\n",
              "  <tbody>\n",
              "    <tr>\n",
              "      <th>MLR</th>\n",
              "      <td>617036.358722</td>\n",
              "      <td>588858.500354</td>\n",
              "      <td>767.371162</td>\n",
              "    </tr>\n",
              "  </tbody>\n",
              "</table>\n",
              "</div>"
            ],
            "text/plain": [
              "      Training MSE       Test MSE   Test RMSE\n",
              "MLR  617036.358722  588858.500354  767.371162"
            ]
          },
          "metadata": {
            "tags": []
          },
          "execution_count": 114
        }
      ]
    },
    {
      "cell_type": "code",
      "metadata": {
        "id": "HrOt2h8nJak-",
        "colab_type": "code",
        "colab": {}
      },
      "source": [
        ""
      ],
      "execution_count": 0,
      "outputs": []
    },
    {
      "cell_type": "code",
      "metadata": {
        "id": "vdH-Sb5gJaCF",
        "colab_type": "code",
        "colab": {}
      },
      "source": [
        "from sklearn.preprocessing import StandardScaler"
      ],
      "execution_count": 0,
      "outputs": []
    },
    {
      "cell_type": "code",
      "metadata": {
        "id": "yGsXyr-LJZkV",
        "colab_type": "code",
        "colab": {}
      },
      "source": [
        "scaler = StandardScaler()"
      ],
      "execution_count": 0,
      "outputs": []
    },
    {
      "cell_type": "code",
      "metadata": {
        "id": "YPwdBd0B0vzP",
        "colab_type": "code",
        "colab": {}
      },
      "source": [
        "X_scaled = scaler.fit_transform(x)"
      ],
      "execution_count": 0,
      "outputs": []
    },
    {
      "cell_type": "code",
      "metadata": {
        "id": "C7EcDiExGtKN",
        "colab_type": "code",
        "colab": {}
      },
      "source": [
        "X_scaled = scaler.fit_transform(x)"
      ],
      "execution_count": 0,
      "outputs": []
    },
    {
      "cell_type": "code",
      "metadata": {
        "id": "jJvBH0woWo2q",
        "colab_type": "code",
        "colab": {}
      },
      "source": [
        "X_train_lasso, X_test_lasso, y_train_lasso, y_test_lasso = train_test_split(X_scaled,\n",
        "                                                    y,\n",
        "                                                    test_size=0.20,\n",
        "                                                    random_state=1)"
      ],
      "execution_count": 0,
      "outputs": []
    },
    {
      "cell_type": "code",
      "metadata": {
        "id": "vUOoS-6qWo26",
        "colab_type": "code",
        "colab": {}
      },
      "source": [
        "from sklearn.linear_model import Lasso"
      ],
      "execution_count": 0,
      "outputs": []
    },
    {
      "cell_type": "code",
      "metadata": {
        "id": "r09HAqoiWo3l",
        "colab_type": "code",
        "colab": {}
      },
      "source": [
        "lasso = Lasso(alpha=0.01)"
      ],
      "execution_count": 0,
      "outputs": []
    },
    {
      "cell_type": "code",
      "metadata": {
        "id": "0O03PlHQWo4Q",
        "colab_type": "code",
        "colab": {
          "base_uri": "https://localhost:8080/",
          "height": 122
        },
        "outputId": "37123efe-cedb-4a27-ffbd-ffad1bbc10cf"
      },
      "source": [
        "lasso.fit(X_train_lasso, y_train_lasso)"
      ],
      "execution_count": 127,
      "outputs": [
        {
          "output_type": "stream",
          "text": [
            "/usr/local/lib/python3.6/dist-packages/sklearn/linear_model/_coordinate_descent.py:476: ConvergenceWarning: Objective did not converge. You might want to increase the number of iterations. Duality gap: 4581819705.336275, tolerance: 1662117.506173962\n",
            "  positive)\n"
          ],
          "name": "stderr"
        },
        {
          "output_type": "execute_result",
          "data": {
            "text/plain": [
              "Lasso(alpha=0.01, copy_X=True, fit_intercept=True, max_iter=1000,\n",
              "      normalize=False, positive=False, precompute=False, random_state=None,\n",
              "      selection='cyclic', tol=0.0001, warm_start=False)"
            ]
          },
          "metadata": {
            "tags": []
          },
          "execution_count": 127
        }
      ]
    },
    {
      "cell_type": "code",
      "metadata": {
        "id": "nrMYIDt1PJeB",
        "colab_type": "code",
        "colab": {}
      },
      "source": [
        "test_lasso = lasso.predict(X_test_lasso)"
      ],
      "execution_count": 0,
      "outputs": []
    },
    {
      "cell_type": "code",
      "metadata": {
        "id": "jrtJ9T-3MhO7",
        "colab_type": "code",
        "colab": {}
      },
      "source": [
        "rmse= math.sqrt(metrics.mean_squared_error(y_test_lasso, lasso.predict(X_test_lasso)))"
      ],
      "execution_count": 0,
      "outputs": []
    },
    {
      "cell_type": "code",
      "metadata": {
        "id": "yM2TX7lLPSxd",
        "colab_type": "code",
        "colab": {
          "base_uri": "https://localhost:8080/",
          "height": 34
        },
        "outputId": "7dc527bc-02bb-4dfa-eca2-11d5524584b5"
      },
      "source": [
        "rmse"
      ],
      "execution_count": 134,
      "outputs": [
        {
          "output_type": "execute_result",
          "data": {
            "text/plain": [
              "772.2451967182812"
            ]
          },
          "metadata": {
            "tags": []
          },
          "execution_count": 134
        }
      ]
    },
    {
      "cell_type": "code",
      "metadata": {
        "id": "IZ9JZoqdPYgK",
        "colab_type": "code",
        "colab": {}
      },
      "source": [
        ""
      ],
      "execution_count": 0,
      "outputs": []
    },
    {
      "cell_type": "code",
      "metadata": {
        "id": "_EMPAX4aPZBU",
        "colab_type": "code",
        "colab": {}
      },
      "source": [
        ""
      ],
      "execution_count": 0,
      "outputs": []
    },
    {
      "cell_type": "code",
      "metadata": {
        "id": "TEoNyfJwPZw_",
        "colab_type": "code",
        "colab": {}
      },
      "source": [
        ""
      ],
      "execution_count": 0,
      "outputs": []
    }
  ]
}